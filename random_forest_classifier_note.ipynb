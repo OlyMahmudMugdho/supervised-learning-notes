{
  "metadata": {
    "kernelspec": {
      "language": "python",
      "display_name": "Python 3",
      "name": "python3"
    },
    "language_info": {
      "name": "python",
      "version": "3.11.13",
      "mimetype": "text/x-python",
      "codemirror_mode": {
        "name": "ipython",
        "version": 3
      },
      "pygments_lexer": "ipython3",
      "nbconvert_exporter": "python",
      "file_extension": ".py"
    },
    "kaggle": {
      "accelerator": "none",
      "dataSources": [
        {
          "sourceId": 2965537,
          "sourceType": "datasetVersion",
          "datasetId": 1818188
        }
      ],
      "dockerImageVersionId": 31089,
      "isInternetEnabled": true,
      "language": "python",
      "sourceType": "notebook",
      "isGpuEnabled": false
    },
    "colab": {
      "name": "random-forest-classifier-note",
      "provenance": [],
      "include_colab_link": true
    }
  },
  "nbformat_minor": 0,
  "nbformat": 4,
  "cells": [
    {
      "cell_type": "markdown",
      "metadata": {
        "id": "view-in-github",
        "colab_type": "text"
      },
      "source": [
        "<a href=\"https://colab.research.google.com/github/OlyMahmudMugdho/supervised-learning-notes/blob/main/random_forest_classifier_note.ipynb\" target=\"_parent\"><img src=\"https://colab.research.google.com/assets/colab-badge.svg\" alt=\"Open In Colab\"/></a>"
      ]
    },
    {
      "source": [
        "# IMPORTANT: RUN THIS CELL IN ORDER TO IMPORT YOUR KAGGLE DATA SOURCES,\n",
        "# THEN FEEL FREE TO DELETE THIS CELL.\n",
        "# NOTE: THIS NOTEBOOK ENVIRONMENT DIFFERS FROM KAGGLE'S PYTHON\n",
        "# ENVIRONMENT SO THERE MAY BE MISSING LIBRARIES USED BY YOUR\n",
        "# NOTEBOOK.\n",
        "import kagglehub\n",
        "yasserh_titanic_dataset_path = kagglehub.dataset_download('yasserh/titanic-dataset')\n",
        "\n",
        "print('Data source import complete.')\n"
      ],
      "metadata": {
        "id": "ocTbIBl1Ib2s"
      },
      "cell_type": "code",
      "outputs": [],
      "execution_count": null
    },
    {
      "cell_type": "code",
      "source": [
        "# 1. Imports\n",
        "import pandas as pd\n",
        "import numpy as np\n",
        "import matplotlib.pyplot as plt\n",
        "import seaborn as sns\n",
        "\n",
        "from sklearn.model_selection import train_test_split\n",
        "from sklearn.ensemble import RandomForestClassifier\n",
        "from sklearn.metrics import accuracy_score, classification_report, confusion_matrix, roc_curve, roc_auc_score"
      ],
      "metadata": {
        "_uuid": "b59a392e-33e3-4d68-8348-3761743b079d",
        "_cell_guid": "9471127c-84f1-428d-886a-2870e3f1d7c8",
        "trusted": true,
        "execution": {
          "iopub.status.busy": "2025-08-25T07:52:51.956529Z",
          "iopub.execute_input": "2025-08-25T07:52:51.95724Z",
          "iopub.status.idle": "2025-08-25T07:52:51.962762Z",
          "shell.execute_reply.started": "2025-08-25T07:52:51.957205Z",
          "shell.execute_reply": "2025-08-25T07:52:51.961746Z"
        },
        "jupyter": {
          "outputs_hidden": false
        },
        "id": "CLUyGh8pIb2x"
      },
      "outputs": [],
      "execution_count": null
    },
    {
      "cell_type": "code",
      "source": [
        "# 2. Load Dataset\n",
        "df = pd.read_csv(\"/kaggle/input/titanic-dataset/Titanic-Dataset.csv\")"
      ],
      "metadata": {
        "_uuid": "81987090-2ee2-4e21-977b-6dbe3becfb40",
        "_cell_guid": "f7dab4c2-7979-4699-b837-a05b8045ee2a",
        "trusted": true,
        "execution": {
          "iopub.status.busy": "2025-08-25T07:52:56.84701Z",
          "iopub.execute_input": "2025-08-25T07:52:56.847346Z",
          "iopub.status.idle": "2025-08-25T07:52:56.858112Z",
          "shell.execute_reply.started": "2025-08-25T07:52:56.847322Z",
          "shell.execute_reply": "2025-08-25T07:52:56.857099Z"
        },
        "jupyter": {
          "outputs_hidden": false
        },
        "id": "pkRLvk3sIb2y"
      },
      "outputs": [],
      "execution_count": null
    },
    {
      "cell_type": "code",
      "source": [
        "# 3. Data Preprocessing\n",
        "df.columns = df.columns.str.strip()  # remove whitespace\n",
        "df['Age'] = df['Age'].fillna(df['Age'].median())\n",
        "if 'Embarked' in df.columns:\n",
        "    df['Embarked'] = df['Embarked'].fillna(df['Embarked'].mode()[0])\n",
        "\n",
        "# Drop unnecessary columns\n",
        "cols_to_drop = [col for col in ['Name', 'Ticket', 'Cabin'] if col in df.columns]\n",
        "df.drop(columns=cols_to_drop, inplace=True)\n",
        "\n",
        "# One-hot encode categorical variables\n",
        "df = pd.get_dummies(df, drop_first=True)"
      ],
      "metadata": {
        "_uuid": "c6fdd14c-5917-456d-b8e6-ea773e7d30ca",
        "_cell_guid": "ed61e2a8-c468-4bff-98c9-640f967706e2",
        "trusted": true,
        "execution": {
          "iopub.status.busy": "2025-08-25T07:53:06.887282Z",
          "iopub.execute_input": "2025-08-25T07:53:06.887605Z",
          "iopub.status.idle": "2025-08-25T07:53:06.901846Z",
          "shell.execute_reply.started": "2025-08-25T07:53:06.88758Z",
          "shell.execute_reply": "2025-08-25T07:53:06.901071Z"
        },
        "jupyter": {
          "outputs_hidden": false
        },
        "id": "nSIin0BuIb2z"
      },
      "outputs": [],
      "execution_count": null
    },
    {
      "cell_type": "code",
      "source": [
        "# 4. Define features and target\n",
        "X = df.drop('Survived', axis=1)\n",
        "y = df['Survived']"
      ],
      "metadata": {
        "_uuid": "cd28cf6f-9c9f-449e-aaff-105398b67513",
        "_cell_guid": "08d80b08-f170-49a3-a58c-1ccaac946cc2",
        "trusted": true,
        "execution": {
          "iopub.status.busy": "2025-08-25T07:53:12.979518Z",
          "iopub.execute_input": "2025-08-25T07:53:12.980535Z",
          "iopub.status.idle": "2025-08-25T07:53:12.986472Z",
          "shell.execute_reply.started": "2025-08-25T07:53:12.980504Z",
          "shell.execute_reply": "2025-08-25T07:53:12.985533Z"
        },
        "jupyter": {
          "outputs_hidden": false
        },
        "id": "Tc185mnLIb20"
      },
      "outputs": [],
      "execution_count": null
    },
    {
      "cell_type": "code",
      "source": [
        "# 5. Train-test split\n",
        "X_train, X_test, y_train, y_test = train_test_split(\n",
        "    X, y, test_size=0.2, random_state=42\n",
        ")"
      ],
      "metadata": {
        "_uuid": "59343984-4b0b-4fe7-903a-4b8e0a61bed2",
        "_cell_guid": "045dbde3-9f64-4284-aee9-ebf121f7034f",
        "trusted": true,
        "execution": {
          "iopub.status.busy": "2025-08-25T07:53:18.052746Z",
          "iopub.execute_input": "2025-08-25T07:53:18.053053Z",
          "iopub.status.idle": "2025-08-25T07:53:18.060694Z",
          "shell.execute_reply.started": "2025-08-25T07:53:18.053032Z",
          "shell.execute_reply": "2025-08-25T07:53:18.059707Z"
        },
        "jupyter": {
          "outputs_hidden": false
        },
        "id": "cU5Kypj4Ib21"
      },
      "outputs": [],
      "execution_count": null
    },
    {
      "cell_type": "code",
      "source": [
        "# 6. Train Random Forest\n",
        "rf = RandomForestClassifier(n_estimators=100, random_state=42)\n",
        "rf.fit(X_train, y_train)"
      ],
      "metadata": {
        "_uuid": "0adaa642-7878-4a02-8752-e762989e4b6a",
        "_cell_guid": "8074a255-4664-44a7-91c9-95a9dbb6ee70",
        "trusted": true,
        "execution": {
          "iopub.status.busy": "2025-08-25T07:53:24.162501Z",
          "iopub.execute_input": "2025-08-25T07:53:24.16314Z",
          "iopub.status.idle": "2025-08-25T07:53:24.375609Z",
          "shell.execute_reply.started": "2025-08-25T07:53:24.163109Z",
          "shell.execute_reply": "2025-08-25T07:53:24.374972Z"
        },
        "jupyter": {
          "outputs_hidden": false
        },
        "id": "Uy-Xw-PPIb22"
      },
      "outputs": [],
      "execution_count": null
    },
    {
      "cell_type": "code",
      "source": [
        "# 7. Predictions\n",
        "y_pred = rf.predict(X_test)\n",
        "y_proba = rf.predict_proba(X_test)[:,1]"
      ],
      "metadata": {
        "_uuid": "45bcde6f-b2c3-4aa7-9c9b-08be768c767d",
        "_cell_guid": "00d86429-c226-46bd-879a-c7749c7b40e6",
        "trusted": true,
        "execution": {
          "iopub.status.busy": "2025-08-25T07:53:29.142239Z",
          "iopub.execute_input": "2025-08-25T07:53:29.142563Z",
          "iopub.status.idle": "2025-08-25T07:53:29.169334Z",
          "shell.execute_reply.started": "2025-08-25T07:53:29.142539Z",
          "shell.execute_reply": "2025-08-25T07:53:29.168538Z"
        },
        "jupyter": {
          "outputs_hidden": false
        },
        "id": "pT00aSaoIb24"
      },
      "outputs": [],
      "execution_count": null
    },
    {
      "cell_type": "code",
      "source": [
        "# 8. Evaluation Metrics\n",
        "print(\"Accuracy:\", accuracy_score(y_test, y_pred))\n",
        "print(\"\\nClassification Report:\\n\", classification_report(y_test, y_pred))"
      ],
      "metadata": {
        "_uuid": "b8604c3f-ecb1-4b05-8a24-a2834d13275a",
        "_cell_guid": "fcdc0fa0-8ffd-4fd4-a6c4-7815bb7ff6c9",
        "trusted": true,
        "execution": {
          "iopub.status.busy": "2025-08-25T07:53:34.932092Z",
          "iopub.execute_input": "2025-08-25T07:53:34.932414Z",
          "iopub.status.idle": "2025-08-25T07:53:34.946351Z",
          "shell.execute_reply.started": "2025-08-25T07:53:34.932391Z",
          "shell.execute_reply": "2025-08-25T07:53:34.945609Z"
        },
        "jupyter": {
          "outputs_hidden": false
        },
        "id": "mD68J1anIb24"
      },
      "outputs": [],
      "execution_count": null
    },
    {
      "cell_type": "code",
      "source": [
        "# Confusion Matrix\n",
        "cm = confusion_matrix(y_test, y_pred)\n",
        "plt.figure(figsize=(6,5))\n",
        "sns.heatmap(cm, annot=True, fmt=\"d\", cmap=\"Blues\", xticklabels=[\"Died\", \"Survived\"], yticklabels=[\"Died\", \"Survived\"])\n",
        "plt.xlabel(\"Predicted\")\n",
        "plt.ylabel(\"Actual\")\n",
        "plt.title(\"Random Forest Confusion Matrix\")\n",
        "plt.show()"
      ],
      "metadata": {
        "_uuid": "340158ae-0348-45c6-b80c-b17067dae677",
        "_cell_guid": "009367dc-0234-42e3-8d5e-e471c2d67971",
        "trusted": true,
        "execution": {
          "iopub.status.busy": "2025-08-25T07:53:40.54621Z",
          "iopub.execute_input": "2025-08-25T07:53:40.546493Z",
          "iopub.status.idle": "2025-08-25T07:53:40.757964Z",
          "shell.execute_reply.started": "2025-08-25T07:53:40.546475Z",
          "shell.execute_reply": "2025-08-25T07:53:40.756936Z"
        },
        "jupyter": {
          "outputs_hidden": false
        },
        "id": "_i8nL6rMIb25"
      },
      "outputs": [],
      "execution_count": null
    },
    {
      "cell_type": "code",
      "source": [
        "# ROC Curve\n",
        "fpr, tpr, thresholds = roc_curve(y_test, y_proba)\n",
        "auc = roc_auc_score(y_test, y_proba)\n",
        "plt.figure(figsize=(8,6))\n",
        "plt.plot(fpr, tpr, label=f\"ROC curve (AUC = {auc:.2f})\")\n",
        "plt.plot([0,1], [0,1], color='red', linestyle='--')\n",
        "plt.xlabel(\"False Positive Rate\")\n",
        "plt.ylabel(\"True Positive Rate\")\n",
        "plt.title(\"Random Forest ROC Curve\")\n",
        "plt.legend()\n",
        "plt.show()"
      ],
      "metadata": {
        "_uuid": "cad36a93-6919-4f1e-b5c0-76edaa5b5616",
        "_cell_guid": "c2c77dab-24de-48ba-87b1-0c99a864e8e4",
        "trusted": true,
        "execution": {
          "iopub.status.busy": "2025-08-25T07:53:47.837258Z",
          "iopub.execute_input": "2025-08-25T07:53:47.837531Z",
          "iopub.status.idle": "2025-08-25T07:53:48.037574Z",
          "shell.execute_reply.started": "2025-08-25T07:53:47.837514Z",
          "shell.execute_reply": "2025-08-25T07:53:48.036641Z"
        },
        "jupyter": {
          "outputs_hidden": false
        },
        "id": "lKjHW-iaIb26"
      },
      "outputs": [],
      "execution_count": null
    }
  ]
}
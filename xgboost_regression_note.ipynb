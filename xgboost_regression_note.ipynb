{
  "metadata": {
    "kernelspec": {
      "language": "python",
      "display_name": "Python 3",
      "name": "python3"
    },
    "language_info": {
      "name": "python",
      "version": "3.11.13",
      "mimetype": "text/x-python",
      "codemirror_mode": {
        "name": "ipython",
        "version": 3
      },
      "pygments_lexer": "ipython3",
      "nbconvert_exporter": "python",
      "file_extension": ".py"
    },
    "kaggle": {
      "accelerator": "none",
      "dataSources": [
        {
          "sourceId": 3036086,
          "sourceType": "datasetVersion",
          "datasetId": 1859421
        }
      ],
      "dockerImageVersionId": 31089,
      "isInternetEnabled": true,
      "language": "python",
      "sourceType": "notebook",
      "isGpuEnabled": false
    },
    "colab": {
      "name": "xgboost-regression-note",
      "provenance": [],
      "include_colab_link": true
    }
  },
  "nbformat_minor": 0,
  "nbformat": 4,
  "cells": [
    {
      "cell_type": "markdown",
      "metadata": {
        "id": "view-in-github",
        "colab_type": "text"
      },
      "source": [
        "<a href=\"https://colab.research.google.com/github/OlyMahmudMugdho/supervised-learning-notes/blob/main/xgboost_regression_note.ipynb\" target=\"_parent\"><img src=\"https://colab.research.google.com/assets/colab-badge.svg\" alt=\"Open In Colab\"/></a>"
      ]
    },
    {
      "source": [
        "# IMPORTANT: RUN THIS CELL IN ORDER TO IMPORT YOUR KAGGLE DATA SOURCES,\n",
        "# THEN FEEL FREE TO DELETE THIS CELL.\n",
        "# NOTE: THIS NOTEBOOK ENVIRONMENT DIFFERS FROM KAGGLE'S PYTHON\n",
        "# ENVIRONMENT SO THERE MAY BE MISSING LIBRARIES USED BY YOUR\n",
        "# NOTEBOOK.\n",
        "import kagglehub\n",
        "yasserh_housing_prices_dataset_path = kagglehub.dataset_download('yasserh/housing-prices-dataset')\n",
        "\n",
        "print('Data source import complete.')\n"
      ],
      "metadata": {
        "id": "q8nsK7X6Koqz"
      },
      "cell_type": "code",
      "outputs": [],
      "execution_count": null
    },
    {
      "cell_type": "code",
      "source": [
        "# 1. Imports\n",
        "import pandas as pd\n",
        "import numpy as np\n",
        "import matplotlib.pyplot as plt\n",
        "import seaborn as sns\n",
        "\n",
        "from sklearn.model_selection import train_test_split\n",
        "from sklearn.preprocessing import StandardScaler\n",
        "from sklearn.metrics import mean_squared_error, r2_score\n",
        "import xgboost as xgb"
      ],
      "metadata": {
        "_uuid": "da81f22e-68b1-48bf-8f7a-fbc186b34194",
        "_cell_guid": "d9317863-f752-4ab6-a56f-03d57a09fd6c",
        "trusted": true,
        "execution": {
          "iopub.status.busy": "2025-08-25T10:25:15.492562Z",
          "iopub.execute_input": "2025-08-25T10:25:15.492858Z",
          "iopub.status.idle": "2025-08-25T10:25:15.497749Z",
          "shell.execute_reply.started": "2025-08-25T10:25:15.492839Z",
          "shell.execute_reply": "2025-08-25T10:25:15.496816Z"
        },
        "jupyter": {
          "outputs_hidden": false
        },
        "id": "3T19ugVhKoq9"
      },
      "outputs": [],
      "execution_count": null
    },
    {
      "cell_type": "code",
      "source": [
        "# 2. Load Dataset\n",
        "df = pd.read_csv(\"/kaggle/input/housing-prices-dataset/Housing.csv\")\n",
        "df.columns = df.columns.str.strip()  # remove whitespace"
      ],
      "metadata": {
        "_uuid": "a4d559a3-5dbd-47ec-a8df-e0a1e9a4d237",
        "_cell_guid": "d91bf547-ff69-4e19-bdd7-10c7bff05033",
        "trusted": true,
        "execution": {
          "iopub.status.busy": "2025-08-25T10:25:15.502399Z",
          "iopub.execute_input": "2025-08-25T10:25:15.502718Z",
          "iopub.status.idle": "2025-08-25T10:25:15.523451Z",
          "shell.execute_reply.started": "2025-08-25T10:25:15.502687Z",
          "shell.execute_reply": "2025-08-25T10:25:15.522638Z"
        },
        "jupyter": {
          "outputs_hidden": false
        },
        "id": "5MmQxlsZKoq-"
      },
      "outputs": [],
      "execution_count": null
    },
    {
      "cell_type": "code",
      "source": [
        "# 3. Data Preprocessing\n",
        "numeric_cols = df.select_dtypes(include=[np.number]).columns.tolist()\n",
        "df[numeric_cols] = df[numeric_cols].fillna(df[numeric_cols].median())\n",
        "\n",
        "categorical_cols = df.select_dtypes(include=[object]).columns.tolist()\n",
        "for col in categorical_cols:\n",
        "    df[col] = df[col].fillna(df[col].mode()[0])\n",
        "\n",
        "df = pd.get_dummies(df, drop_first=True)"
      ],
      "metadata": {
        "_uuid": "d3aa302e-24b6-4084-b06f-ec860b2397a2",
        "_cell_guid": "af411bb0-bf5f-4a2a-812c-7f5da1983b44",
        "trusted": true,
        "execution": {
          "iopub.status.busy": "2025-08-25T10:25:15.524779Z",
          "iopub.execute_input": "2025-08-25T10:25:15.525036Z",
          "iopub.status.idle": "2025-08-25T10:25:15.54835Z",
          "shell.execute_reply.started": "2025-08-25T10:25:15.525016Z",
          "shell.execute_reply": "2025-08-25T10:25:15.547425Z"
        },
        "jupyter": {
          "outputs_hidden": false
        },
        "id": "wghT4INeKoq_"
      },
      "outputs": [],
      "execution_count": null
    },
    {
      "cell_type": "code",
      "source": [
        "# 4. Define features and target\n",
        "X = df.drop('price', axis=1)\n",
        "y = df['price']"
      ],
      "metadata": {
        "_uuid": "8f6d3d64-3ffb-4eaa-ad5f-ac765fabf459",
        "_cell_guid": "91a4ce13-fcbc-4ac2-98fd-05924abe9b2b",
        "trusted": true,
        "execution": {
          "iopub.status.busy": "2025-08-25T10:25:15.549362Z",
          "iopub.execute_input": "2025-08-25T10:25:15.549758Z",
          "iopub.status.idle": "2025-08-25T10:25:15.557196Z",
          "shell.execute_reply.started": "2025-08-25T10:25:15.549729Z",
          "shell.execute_reply": "2025-08-25T10:25:15.556372Z"
        },
        "jupyter": {
          "outputs_hidden": false
        },
        "id": "rg6RifiMKorB"
      },
      "outputs": [],
      "execution_count": null
    },
    {
      "cell_type": "code",
      "source": [
        "# 5. Train-test split\n",
        "X_train, X_test, y_train, y_test = train_test_split(\n",
        "    X, y, test_size=0.2, random_state=42\n",
        ")"
      ],
      "metadata": {
        "_uuid": "afbbde42-3b65-49b0-bfbb-cec2c1efcbbc",
        "_cell_guid": "b914b686-2b9c-492d-a421-9aea74bb9201",
        "trusted": true,
        "execution": {
          "iopub.status.busy": "2025-08-25T10:25:15.559335Z",
          "iopub.execute_input": "2025-08-25T10:25:15.559614Z",
          "iopub.status.idle": "2025-08-25T10:25:15.575816Z",
          "shell.execute_reply.started": "2025-08-25T10:25:15.559593Z",
          "shell.execute_reply": "2025-08-25T10:25:15.574796Z"
        },
        "jupyter": {
          "outputs_hidden": false
        },
        "id": "75VmiL1xKorB"
      },
      "outputs": [],
      "execution_count": null
    },
    {
      "cell_type": "code",
      "source": [
        "# 6. Optional scaling\n",
        "scaler = StandardScaler()\n",
        "X_train_scaled = scaler.fit_transform(X_train)\n",
        "X_test_scaled = scaler.transform(X_test)"
      ],
      "metadata": {
        "_uuid": "5b34cabc-2ed4-4bf4-ba2d-f0ba4d54c22f",
        "_cell_guid": "ea73f348-205f-47f4-8f8e-e22f5af2d7f7",
        "trusted": true,
        "execution": {
          "iopub.status.busy": "2025-08-25T10:25:15.576798Z",
          "iopub.execute_input": "2025-08-25T10:25:15.577047Z",
          "iopub.status.idle": "2025-08-25T10:25:15.597552Z",
          "shell.execute_reply.started": "2025-08-25T10:25:15.577026Z",
          "shell.execute_reply": "2025-08-25T10:25:15.596546Z"
        },
        "jupyter": {
          "outputs_hidden": false
        },
        "id": "kWpcv6xKKorB"
      },
      "outputs": [],
      "execution_count": null
    },
    {
      "cell_type": "code",
      "source": [
        "# 7. Train XGBoost Regressor\n",
        "xgb_reg = xgb.XGBRegressor(\n",
        "    n_estimators=200, learning_rate=0.1, max_depth=4, random_state=42\n",
        ")\n",
        "xgb_reg.fit(X_train_scaled, y_train)"
      ],
      "metadata": {
        "_uuid": "a42eba69-8019-446c-b8df-6665d99ea9e5",
        "_cell_guid": "b1ec43f7-140f-4051-8319-dc5d42941b89",
        "trusted": true,
        "execution": {
          "iopub.status.busy": "2025-08-25T10:25:15.598517Z",
          "iopub.execute_input": "2025-08-25T10:25:15.599059Z",
          "iopub.status.idle": "2025-08-25T10:25:15.676547Z",
          "shell.execute_reply.started": "2025-08-25T10:25:15.599029Z",
          "shell.execute_reply": "2025-08-25T10:25:15.675731Z"
        },
        "jupyter": {
          "outputs_hidden": false
        },
        "id": "Ov6dlyYrKorC"
      },
      "outputs": [],
      "execution_count": null
    },
    {
      "cell_type": "code",
      "source": [
        "# 8. Predictions\n",
        "y_pred = xgb_reg.predict(X_test_scaled)"
      ],
      "metadata": {
        "_uuid": "32582fab-58e3-4cd8-aa67-7ce55e47b48d",
        "_cell_guid": "60daf72d-f2b0-4079-b652-bfca1dc4f58c",
        "trusted": true,
        "execution": {
          "iopub.status.busy": "2025-08-25T10:25:15.67744Z",
          "iopub.execute_input": "2025-08-25T10:25:15.677806Z",
          "iopub.status.idle": "2025-08-25T10:25:15.683707Z",
          "shell.execute_reply.started": "2025-08-25T10:25:15.677773Z",
          "shell.execute_reply": "2025-08-25T10:25:15.683072Z"
        },
        "jupyter": {
          "outputs_hidden": false
        },
        "id": "ZjPBY7IcKorC"
      },
      "outputs": [],
      "execution_count": null
    },
    {
      "cell_type": "code",
      "source": [
        "# 9. Evaluation\n",
        "mse = mean_squared_error(y_test, y_pred)\n",
        "r2 = r2_score(y_test, y_pred)\n",
        "print(f\"Test MSE: {mse:.2f}\")\n",
        "print(f\"Test R²: {r2:.4f}\")"
      ],
      "metadata": {
        "_uuid": "611eebc7-8784-4d00-99e3-825889176bec",
        "_cell_guid": "d5487760-d0a2-4d11-9c16-79bf8234dd4e",
        "trusted": true,
        "execution": {
          "iopub.status.busy": "2025-08-25T10:25:15.684501Z",
          "iopub.execute_input": "2025-08-25T10:25:15.684716Z",
          "iopub.status.idle": "2025-08-25T10:25:15.701787Z",
          "shell.execute_reply.started": "2025-08-25T10:25:15.684698Z",
          "shell.execute_reply": "2025-08-25T10:25:15.701082Z"
        },
        "jupyter": {
          "outputs_hidden": false
        },
        "id": "dByleISmKorD"
      },
      "outputs": [],
      "execution_count": null
    },
    {
      "cell_type": "code",
      "source": [
        "# 10. Actual vs Predicted Plot\n",
        "plt.figure(figsize=(8,6))\n",
        "sns.scatterplot(x=y_test, y=y_pred)\n",
        "plt.plot([y_test.min(), y_test.max()], [y_test.min(), y_test.max()], 'r--')\n",
        "plt.xlabel(\"Actual Prices\")\n",
        "plt.ylabel(\"Predicted Prices\")\n",
        "plt.title(\"XGBoost Regression: Actual vs Predicted\")\n",
        "plt.show()"
      ],
      "metadata": {
        "_uuid": "461d395c-2576-41c4-a5f1-14057b9bb228",
        "_cell_guid": "187a7950-ced5-4070-b772-65b086accc00",
        "trusted": true,
        "execution": {
          "iopub.status.busy": "2025-08-25T10:25:15.70267Z",
          "iopub.execute_input": "2025-08-25T10:25:15.702997Z",
          "iopub.status.idle": "2025-08-25T10:25:15.906159Z",
          "shell.execute_reply.started": "2025-08-25T10:25:15.702944Z",
          "shell.execute_reply": "2025-08-25T10:25:15.905339Z"
        },
        "jupyter": {
          "outputs_hidden": false
        },
        "id": "MtssRe8cKorE"
      },
      "outputs": [],
      "execution_count": null
    },
    {
      "cell_type": "code",
      "source": [
        "# 11. Feature Importance\n",
        "feat_imp = pd.DataFrame({\n",
        "    'Feature': X.columns,\n",
        "    'Importance': xgb_reg.feature_importances_\n",
        "}).sort_values(by='Importance', ascending=False)\n",
        "\n",
        "plt.figure(figsize=(10,6))\n",
        "sns.barplot(x='Importance', y='Feature', data=feat_imp.head(10))\n",
        "plt.title(\"Top 10 Feature Importances\")\n",
        "plt.show()"
      ],
      "metadata": {
        "_uuid": "21403015-938f-4cef-b569-175e0a73b3dd",
        "_cell_guid": "702bbbb9-1cca-410a-9389-9925f55918b2",
        "trusted": true,
        "execution": {
          "iopub.status.busy": "2025-08-25T10:25:15.908033Z",
          "iopub.execute_input": "2025-08-25T10:25:15.90829Z",
          "iopub.status.idle": "2025-08-25T10:25:16.118041Z",
          "shell.execute_reply.started": "2025-08-25T10:25:15.908268Z",
          "shell.execute_reply": "2025-08-25T10:25:16.117166Z"
        },
        "jupyter": {
          "outputs_hidden": false
        },
        "id": "Qv6YI0vbKorF"
      },
      "outputs": [],
      "execution_count": null
    }
  ]
}
{
  "metadata": {
    "kernelspec": {
      "language": "python",
      "display_name": "Python 3",
      "name": "python3"
    },
    "language_info": {
      "name": "python",
      "version": "3.11.13",
      "mimetype": "text/x-python",
      "codemirror_mode": {
        "name": "ipython",
        "version": 3
      },
      "pygments_lexer": "ipython3",
      "nbconvert_exporter": "python",
      "file_extension": ".py"
    },
    "kaggle": {
      "accelerator": "none",
      "dataSources": [
        {
          "sourceId": 1263738,
          "sourceType": "datasetVersion",
          "datasetId": 727551
        }
      ],
      "dockerImageVersionId": 31089,
      "isInternetEnabled": true,
      "language": "python",
      "sourceType": "notebook",
      "isGpuEnabled": false
    },
    "colab": {
      "name": "knn-heart-failure-prediction",
      "provenance": [],
      "include_colab_link": true
    }
  },
  "nbformat_minor": 0,
  "nbformat": 4,
  "cells": [
    {
      "cell_type": "markdown",
      "metadata": {
        "id": "view-in-github",
        "colab_type": "text"
      },
      "source": [
        "<a href=\"https://colab.research.google.com/github/OlyMahmudMugdho/supervised-learning-notes/blob/main/knn_heart_failure_prediction.ipynb\" target=\"_parent\"><img src=\"https://colab.research.google.com/assets/colab-badge.svg\" alt=\"Open In Colab\"/></a>"
      ]
    },
    {
      "source": [
        "# IMPORTANT: RUN THIS CELL IN ORDER TO IMPORT YOUR KAGGLE DATA SOURCES,\n",
        "# THEN FEEL FREE TO DELETE THIS CELL.\n",
        "# NOTE: THIS NOTEBOOK ENVIRONMENT DIFFERS FROM KAGGLE'S PYTHON\n",
        "# ENVIRONMENT SO THERE MAY BE MISSING LIBRARIES USED BY YOUR\n",
        "# NOTEBOOK.\n",
        "import kagglehub\n",
        "andrewmvd_heart_failure_clinical_data_path = kagglehub.dataset_download('andrewmvd/heart-failure-clinical-data')\n",
        "\n",
        "print('Data source import complete.')\n"
      ],
      "metadata": {
        "id": "42uhqzK1Vt5J"
      },
      "cell_type": "code",
      "outputs": [],
      "execution_count": null
    },
    {
      "cell_type": "code",
      "source": [
        "import pandas as pd\n",
        "from sklearn.preprocessing import StandardScaler\n",
        "from sklearn.model_selection import train_test_split\n",
        "from sklearn.neighbors import KNeighborsClassifier\n",
        "from sklearn.metrics import accuracy_score, precision_score, f1_score, recall_score, confusion_matrix"
      ],
      "metadata": {
        "trusted": true,
        "execution": {
          "iopub.status.busy": "2025-10-07T15:41:08.087631Z",
          "iopub.execute_input": "2025-10-07T15:41:08.087923Z",
          "iopub.status.idle": "2025-10-07T15:41:12.307519Z",
          "shell.execute_reply.started": "2025-10-07T15:41:08.087895Z",
          "shell.execute_reply": "2025-10-07T15:41:12.306548Z"
        },
        "id": "u60OJfUZVt5R"
      },
      "outputs": [],
      "execution_count": null
    },
    {
      "cell_type": "code",
      "source": [
        "file = pd.read_csv('/kaggle/input/heart-failure-clinical-data/heart_failure_clinical_records_dataset.csv')\n",
        "df = pd.DataFrame(file)\n",
        "df.head()"
      ],
      "metadata": {
        "trusted": true,
        "execution": {
          "iopub.status.busy": "2025-10-07T15:41:12.308512Z",
          "iopub.execute_input": "2025-10-07T15:41:12.309168Z",
          "iopub.status.idle": "2025-10-07T15:41:12.362254Z",
          "shell.execute_reply.started": "2025-10-07T15:41:12.309134Z",
          "shell.execute_reply": "2025-10-07T15:41:12.360997Z"
        },
        "id": "3-jBNjx6Vt5T"
      },
      "outputs": [],
      "execution_count": null
    },
    {
      "cell_type": "code",
      "source": [
        "df.info()"
      ],
      "metadata": {
        "trusted": true,
        "execution": {
          "iopub.status.busy": "2025-10-07T15:41:12.364265Z",
          "iopub.execute_input": "2025-10-07T15:41:12.364527Z",
          "iopub.status.idle": "2025-10-07T15:41:12.389977Z",
          "shell.execute_reply.started": "2025-10-07T15:41:12.364498Z",
          "shell.execute_reply": "2025-10-07T15:41:12.389054Z"
        },
        "id": "qA_bwt7OVt5T"
      },
      "outputs": [],
      "execution_count": null
    },
    {
      "cell_type": "code",
      "source": [
        "scaler = StandardScaler()"
      ],
      "metadata": {
        "trusted": true,
        "execution": {
          "iopub.status.busy": "2025-10-07T15:41:12.390849Z",
          "iopub.execute_input": "2025-10-07T15:41:12.391219Z",
          "iopub.status.idle": "2025-10-07T15:41:12.411082Z",
          "shell.execute_reply.started": "2025-10-07T15:41:12.391189Z",
          "shell.execute_reply": "2025-10-07T15:41:12.409961Z"
        },
        "id": "9mf8zwkjVt5U"
      },
      "outputs": [],
      "execution_count": null
    },
    {
      "cell_type": "code",
      "source": [
        "df['platelets'] = scaler.fit_transform(df[['platelets']])\n",
        "df['anaemia'] = scaler.fit_transform(df[['anaemia']])\n",
        "df['age'] = scaler.fit_transform(df[['age']])\n",
        "df['creatinine_phosphokinase'] = scaler.fit_transform(df[['creatinine_phosphokinase']])\n",
        "df['ejection_fraction'] = scaler.fit_transform(df[['ejection_fraction']])\n",
        "df['serum_sodium'] = scaler.fit_transform(df[['serum_sodium']])\n",
        "df['sex'] = scaler.fit_transform(df[['sex']])\n",
        "df['high_blood_pressure'] = scaler.fit_transform(df[['high_blood_pressure']])\n",
        "df['diabetes'] = scaler.fit_transform(df[['diabetes']])\n"
      ],
      "metadata": {
        "trusted": true,
        "execution": {
          "iopub.status.busy": "2025-10-07T15:41:12.412284Z",
          "iopub.execute_input": "2025-10-07T15:41:12.412603Z",
          "iopub.status.idle": "2025-10-07T15:41:12.461803Z",
          "shell.execute_reply.started": "2025-10-07T15:41:12.412574Z",
          "shell.execute_reply": "2025-10-07T15:41:12.460739Z"
        },
        "id": "TmZdmhMhVt5V"
      },
      "outputs": [],
      "execution_count": null
    },
    {
      "cell_type": "code",
      "source": [
        "df.head(3)"
      ],
      "metadata": {
        "trusted": true,
        "execution": {
          "iopub.status.busy": "2025-10-07T15:41:12.462825Z",
          "iopub.execute_input": "2025-10-07T15:41:12.46318Z",
          "iopub.status.idle": "2025-10-07T15:41:12.479051Z",
          "shell.execute_reply.started": "2025-10-07T15:41:12.463156Z",
          "shell.execute_reply": "2025-10-07T15:41:12.477953Z"
        },
        "id": "y7tN9F-ZVt5W"
      },
      "outputs": [],
      "execution_count": null
    },
    {
      "cell_type": "code",
      "source": [
        "X = df.drop(['DEATH_EVENT'], axis=1)\n",
        "y = df['DEATH_EVENT']"
      ],
      "metadata": {
        "trusted": true,
        "execution": {
          "iopub.status.busy": "2025-10-07T15:41:12.480036Z",
          "iopub.execute_input": "2025-10-07T15:41:12.480339Z",
          "iopub.status.idle": "2025-10-07T15:41:12.501882Z",
          "shell.execute_reply.started": "2025-10-07T15:41:12.480317Z",
          "shell.execute_reply": "2025-10-07T15:41:12.500791Z"
        },
        "id": "NzRhbxUnVt5X"
      },
      "outputs": [],
      "execution_count": null
    },
    {
      "cell_type": "code",
      "source": [
        "X.head()"
      ],
      "metadata": {
        "trusted": true,
        "execution": {
          "iopub.status.busy": "2025-10-07T15:41:12.50296Z",
          "iopub.execute_input": "2025-10-07T15:41:12.503321Z",
          "iopub.status.idle": "2025-10-07T15:41:12.534014Z",
          "shell.execute_reply.started": "2025-10-07T15:41:12.50329Z",
          "shell.execute_reply": "2025-10-07T15:41:12.532986Z"
        },
        "id": "xNAWU9EwVt5Y"
      },
      "outputs": [],
      "execution_count": null
    },
    {
      "cell_type": "code",
      "source": [
        "y.head()"
      ],
      "metadata": {
        "trusted": true,
        "execution": {
          "iopub.status.busy": "2025-10-07T15:41:12.537382Z",
          "iopub.execute_input": "2025-10-07T15:41:12.538522Z",
          "iopub.status.idle": "2025-10-07T15:41:12.5546Z",
          "shell.execute_reply.started": "2025-10-07T15:41:12.538483Z",
          "shell.execute_reply": "2025-10-07T15:41:12.553497Z"
        },
        "id": "iwCCoYI6Vt5a"
      },
      "outputs": [],
      "execution_count": null
    },
    {
      "cell_type": "code",
      "source": [
        "X_train,X_test, y_train,y_test = train_test_split(X,y, test_size=0.09, random_state=42)"
      ],
      "metadata": {
        "trusted": true,
        "execution": {
          "iopub.status.busy": "2025-10-07T15:41:12.555441Z",
          "iopub.execute_input": "2025-10-07T15:41:12.555835Z",
          "iopub.status.idle": "2025-10-07T15:41:12.5761Z",
          "shell.execute_reply.started": "2025-10-07T15:41:12.555805Z",
          "shell.execute_reply": "2025-10-07T15:41:12.574957Z"
        },
        "id": "gdi0kW2SVt5b"
      },
      "outputs": [],
      "execution_count": null
    },
    {
      "cell_type": "code",
      "source": [
        "model = KNeighborsClassifier(n_neighbors=3)"
      ],
      "metadata": {
        "trusted": true,
        "execution": {
          "iopub.status.busy": "2025-10-07T15:41:12.577091Z",
          "iopub.execute_input": "2025-10-07T15:41:12.577353Z",
          "iopub.status.idle": "2025-10-07T15:41:12.596182Z",
          "shell.execute_reply.started": "2025-10-07T15:41:12.577335Z",
          "shell.execute_reply": "2025-10-07T15:41:12.595052Z"
        },
        "id": "Q9Wv-QolVt5b"
      },
      "outputs": [],
      "execution_count": null
    },
    {
      "cell_type": "code",
      "source": [
        "model.fit(X_train, y_train)"
      ],
      "metadata": {
        "trusted": true,
        "execution": {
          "iopub.status.busy": "2025-10-07T15:41:12.597179Z",
          "iopub.execute_input": "2025-10-07T15:41:12.597543Z",
          "iopub.status.idle": "2025-10-07T15:41:12.627098Z",
          "shell.execute_reply.started": "2025-10-07T15:41:12.597498Z",
          "shell.execute_reply": "2025-10-07T15:41:12.626244Z"
        },
        "id": "pHa73sLQVt5c"
      },
      "outputs": [],
      "execution_count": null
    },
    {
      "cell_type": "code",
      "source": [
        "results = model.predict(X_test)"
      ],
      "metadata": {
        "trusted": true,
        "execution": {
          "iopub.status.busy": "2025-10-07T15:41:12.628133Z",
          "iopub.execute_input": "2025-10-07T15:41:12.628881Z",
          "iopub.status.idle": "2025-10-07T15:41:12.646564Z",
          "shell.execute_reply.started": "2025-10-07T15:41:12.628833Z",
          "shell.execute_reply": "2025-10-07T15:41:12.645538Z"
        },
        "id": "3OOSrAmLVt5c"
      },
      "outputs": [],
      "execution_count": null
    },
    {
      "cell_type": "code",
      "source": [
        "accuracy = accuracy_score(y_test, results)\n",
        "precision = precision_score(y_test, results)\n",
        "recall = recall_score(y_test, results)\n",
        "f1 = f1_score(y_test, results)"
      ],
      "metadata": {
        "trusted": true,
        "execution": {
          "iopub.status.busy": "2025-10-07T15:41:12.647602Z",
          "iopub.execute_input": "2025-10-07T15:41:12.647954Z",
          "iopub.status.idle": "2025-10-07T15:41:12.661248Z",
          "shell.execute_reply.started": "2025-10-07T15:41:12.647923Z",
          "shell.execute_reply": "2025-10-07T15:41:12.660258Z"
        },
        "id": "IgRJOgc0Vt5d"
      },
      "outputs": [],
      "execution_count": null
    },
    {
      "cell_type": "code",
      "source": [
        "print(\"Accuracy :\", accuracy)\n",
        "print(\"Precision:\", precision)\n",
        "print(\"Recall   :\", recall)\n",
        "print(\"F1 Score :\", f1)"
      ],
      "metadata": {
        "trusted": true,
        "execution": {
          "iopub.status.busy": "2025-10-07T15:41:12.662413Z",
          "iopub.execute_input": "2025-10-07T15:41:12.663046Z",
          "iopub.status.idle": "2025-10-07T15:41:12.670346Z",
          "shell.execute_reply.started": "2025-10-07T15:41:12.663013Z",
          "shell.execute_reply": "2025-10-07T15:41:12.669231Z"
        },
        "id": "ETFNykvYVt5d"
      },
      "outputs": [],
      "execution_count": null
    },
    {
      "cell_type": "code",
      "source": [
        "cm = confusion_matrix(y_test, results)\n",
        "print(cm)"
      ],
      "metadata": {
        "trusted": true,
        "execution": {
          "iopub.status.busy": "2025-10-07T15:41:12.671555Z",
          "iopub.execute_input": "2025-10-07T15:41:12.671898Z",
          "iopub.status.idle": "2025-10-07T15:41:12.693426Z",
          "shell.execute_reply.started": "2025-10-07T15:41:12.671848Z",
          "shell.execute_reply": "2025-10-07T15:41:12.692041Z"
        },
        "id": "pSL5TDjcVt5d"
      },
      "outputs": [],
      "execution_count": null
    }
  ]
}
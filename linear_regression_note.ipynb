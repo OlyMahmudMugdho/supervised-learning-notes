{
  "metadata": {
    "kernelspec": {
      "language": "python",
      "display_name": "Python 3",
      "name": "python3"
    },
    "language_info": {
      "name": "python",
      "version": "3.11.13",
      "mimetype": "text/x-python",
      "codemirror_mode": {
        "name": "ipython",
        "version": 3
      },
      "pygments_lexer": "ipython3",
      "nbconvert_exporter": "python",
      "file_extension": ".py"
    },
    "kaggle": {
      "accelerator": "none",
      "dataSources": [
        {
          "sourceId": 12859736,
          "sourceType": "datasetVersion",
          "datasetId": 8133938
        }
      ],
      "dockerImageVersionId": 31089,
      "isInternetEnabled": true,
      "language": "python",
      "sourceType": "notebook",
      "isGpuEnabled": false
    },
    "colab": {
      "name": "linear-regression-note",
      "provenance": [],
      "include_colab_link": true
    }
  },
  "nbformat_minor": 0,
  "nbformat": 4,
  "cells": [
    {
      "cell_type": "markdown",
      "metadata": {
        "id": "view-in-github",
        "colab_type": "text"
      },
      "source": [
        "<a href=\"https://colab.research.google.com/github/OlyMahmudMugdho/supervised-learning-notes/blob/main/linear_regression_note.ipynb\" target=\"_parent\"><img src=\"https://colab.research.google.com/assets/colab-badge.svg\" alt=\"Open In Colab\"/></a>"
      ]
    },
    {
      "source": [
        "# IMPORTANT: RUN THIS CELL IN ORDER TO IMPORT YOUR KAGGLE DATA SOURCES,\n",
        "# THEN FEEL FREE TO DELETE THIS CELL.\n",
        "# NOTE: THIS NOTEBOOK ENVIRONMENT DIFFERS FROM KAGGLE'S PYTHON\n",
        "# ENVIRONMENT SO THERE MAY BE MISSING LIBRARIES USED BY YOUR\n",
        "# NOTEBOOK.\n",
        "import kagglehub\n",
        "olymahmud_housing_prices_dataset_path = kagglehub.dataset_download('olymahmud/housing-prices-dataset')\n",
        "\n",
        "print('Data source import complete.')\n"
      ],
      "metadata": {
        "id": "HfV0JvOjGGkK"
      },
      "cell_type": "code",
      "outputs": [],
      "execution_count": null
    },
    {
      "cell_type": "markdown",
      "source": [
        "## Step 1: Import Libraries"
      ],
      "metadata": {
        "_uuid": "a1da421e-00d0-45a0-a608-83f5cb5cc796",
        "_cell_guid": "2acd3f91-a711-4f31-89fb-5023558b38e0",
        "trusted": true,
        "collapsed": false,
        "jupyter": {
          "outputs_hidden": false
        },
        "id": "j_dAwNS2GGkR"
      }
    },
    {
      "cell_type": "code",
      "source": [
        "import pandas as pd\n",
        "import numpy as np\n",
        "import matplotlib.pyplot as plt\n",
        "\n",
        "from sklearn.model_selection import train_test_split, cross_val_score\n",
        "from sklearn.linear_model import LinearRegression\n",
        "from sklearn.preprocessing import StandardScaler, OneHotEncoder\n",
        "from sklearn.compose import ColumnTransformer\n",
        "from sklearn.pipeline import Pipeline\n",
        "from sklearn.metrics import mean_squared_error, r2_score\n",
        "import joblib   # for saving the model"
      ],
      "metadata": {
        "_uuid": "c1885369-45d9-475c-b23d-c5df492b6b70",
        "_cell_guid": "e1498fdc-6240-44b0-92cf-6ebdb150a83c",
        "trusted": true,
        "execution": {
          "iopub.status.busy": "2025-08-25T05:39:26.386682Z",
          "iopub.execute_input": "2025-08-25T05:39:26.387006Z",
          "iopub.status.idle": "2025-08-25T05:39:26.413264Z",
          "shell.execute_reply.started": "2025-08-25T05:39:26.386984Z",
          "shell.execute_reply": "2025-08-25T05:39:26.412456Z"
        },
        "jupyter": {
          "outputs_hidden": false
        },
        "id": "wI1Y7BsVGGkV"
      },
      "outputs": [],
      "execution_count": null
    },
    {
      "cell_type": "markdown",
      "source": [
        "pandas & numpy → handle and manipulate data.\n",
        "\n",
        "matplotlib.pyplot → for visualizations.\n",
        "\n",
        "sklearn.model_selection → split dataset and perform cross-validation.\n",
        "\n",
        "LinearRegression → the model we’re using.\n",
        "\n",
        "StandardScaler & OneHotEncoder → preprocess numeric and categorical features.\n",
        "\n",
        "ColumnTransformer → apply different transformations to different columns.\n",
        "\n",
        "Pipeline → combine preprocessing and modeling into one reusable object.\n",
        "\n",
        "metrics → evaluate model performance.\n",
        "\n",
        "joblib → save the trained pipeline for production use."
      ],
      "metadata": {
        "_uuid": "e05c1130-da25-440d-b606-5052536e5f14",
        "_cell_guid": "2933f510-629e-4343-8df6-16fe25a194f1",
        "trusted": true,
        "collapsed": false,
        "jupyter": {
          "outputs_hidden": false
        },
        "id": "I2GgSd0mGGkZ"
      }
    },
    {
      "cell_type": "code",
      "source": [
        "RANDOM_STATE = 42"
      ],
      "metadata": {
        "_uuid": "b95feb52-1931-4478-9231-a1d114348e12",
        "_cell_guid": "98ec3295-51bb-45c7-a6f0-3213cb9ad912",
        "trusted": true,
        "execution": {
          "iopub.status.busy": "2025-08-25T05:39:49.362229Z",
          "iopub.execute_input": "2025-08-25T05:39:49.362514Z",
          "iopub.status.idle": "2025-08-25T05:39:49.36628Z",
          "shell.execute_reply.started": "2025-08-25T05:39:49.362495Z",
          "shell.execute_reply": "2025-08-25T05:39:49.36552Z"
        },
        "jupyter": {
          "outputs_hidden": false
        },
        "id": "EJuGl0XMGGkb"
      },
      "outputs": [],
      "execution_count": null
    },
    {
      "cell_type": "code",
      "source": [
        "# Step 1: Load the dataset\n",
        "df = pd.read_csv(\"/kaggle/input/housing-prices-dataset/housing_prices_dataset.csv\")"
      ],
      "metadata": {
        "_uuid": "3de81515-c024-49bb-8fd3-2d493e5c1c8a",
        "_cell_guid": "ab788d38-af39-4b11-86d9-74cb1b33dff2",
        "trusted": true,
        "execution": {
          "iopub.status.busy": "2025-08-25T05:39:51.701784Z",
          "iopub.execute_input": "2025-08-25T05:39:51.70208Z",
          "iopub.status.idle": "2025-08-25T05:39:51.724545Z",
          "shell.execute_reply.started": "2025-08-25T05:39:51.702061Z",
          "shell.execute_reply": "2025-08-25T05:39:51.723667Z"
        },
        "jupyter": {
          "outputs_hidden": false
        },
        "id": "vUskr2gNGGkc"
      },
      "outputs": [],
      "execution_count": null
    },
    {
      "cell_type": "markdown",
      "source": [
        "Loads the dataset into a Pandas DataFrame.\n",
        "\n",
        "In production, you could also load from a database, cloud storage, or API."
      ],
      "metadata": {
        "_uuid": "7dd478b3-849f-4a71-a6fe-886e6529047b",
        "_cell_guid": "063e8a56-b0b4-44ff-806b-78728998eed0",
        "trusted": true,
        "collapsed": false,
        "jupyter": {
          "outputs_hidden": false
        },
        "id": "yAo7RNcVGGkc"
      }
    },
    {
      "cell_type": "code",
      "source": [
        "# Step 2: Inspect dataset\n",
        "print(df.head())\n",
        "print(df.info())\n",
        "print(df.isnull().sum())  # check missing values"
      ],
      "metadata": {
        "_uuid": "005fd2d3-96d7-4e7a-a33d-58f38b740d64",
        "_cell_guid": "61384094-a2fa-47a9-9a8a-587196e88cf3",
        "trusted": true,
        "jupyter": {
          "outputs_hidden": false
        },
        "id": "B7JZwypJGGkc"
      },
      "outputs": [],
      "execution_count": null
    },
    {
      "cell_type": "markdown",
      "source": [
        "head() → see the first few rows, check columns.\n",
        "\n",
        "info() → check data types and number of non-null entries.\n",
        "\n",
        "isnull().sum() → detect missing values."
      ],
      "metadata": {
        "_uuid": "b29976a8-5f96-44ae-ac60-c5daed69dc05",
        "_cell_guid": "6b8bd1f6-0f6e-4b22-a473-17bc3dfb6479",
        "trusted": true,
        "collapsed": false,
        "jupyter": {
          "outputs_hidden": false
        },
        "id": "x8xVGdC-GGkd"
      }
    },
    {
      "cell_type": "code",
      "source": [
        "# Step 3: Handle missing values (production: log, then impute/drop)\n",
        "df = df.dropna()"
      ],
      "metadata": {
        "_uuid": "fb34b5bc-6200-4382-8898-04fdc4fcca9f",
        "_cell_guid": "9548f9d3-7ef4-4815-9917-1e116f64054e",
        "trusted": true,
        "execution": {
          "iopub.status.busy": "2025-08-25T05:40:23.876375Z",
          "iopub.execute_input": "2025-08-25T05:40:23.876692Z",
          "iopub.status.idle": "2025-08-25T05:40:23.88193Z",
          "shell.execute_reply.started": "2025-08-25T05:40:23.876672Z",
          "shell.execute_reply": "2025-08-25T05:40:23.880997Z"
        },
        "jupyter": {
          "outputs_hidden": false
        },
        "id": "u-gHN5xWGGkd"
      },
      "outputs": [],
      "execution_count": null
    },
    {
      "cell_type": "markdown",
      "source": [
        "Drops any rows with missing values.\n",
        "\n",
        "In production, you might instead impute missing values using mean, median, or mode depending on the feature."
      ],
      "metadata": {
        "_uuid": "fa6a193f-34ca-4d9b-8d28-6307da79d237",
        "_cell_guid": "541b411d-f966-424a-8482-3c85e243292d",
        "trusted": true,
        "collapsed": false,
        "jupyter": {
          "outputs_hidden": false
        },
        "id": "I75X9VVEGGke"
      }
    },
    {
      "cell_type": "code",
      "source": [
        "# Step 4: Split features and target\n",
        "X = df.drop(\"price\", axis=1)\n",
        "y = df[\"price\"]"
      ],
      "metadata": {
        "_uuid": "d260f551-ec3f-483e-be56-6f75e81a8043",
        "_cell_guid": "fd359ec8-6f3d-48c0-9e4d-4e73e74e44d6",
        "trusted": true,
        "execution": {
          "iopub.status.busy": "2025-08-25T05:40:33.420472Z",
          "iopub.execute_input": "2025-08-25T05:40:33.420796Z",
          "iopub.status.idle": "2025-08-25T05:40:33.426478Z",
          "shell.execute_reply.started": "2025-08-25T05:40:33.420771Z",
          "shell.execute_reply": "2025-08-25T05:40:33.425444Z"
        },
        "jupyter": {
          "outputs_hidden": false
        },
        "id": "kaxa2r4eGGkf"
      },
      "outputs": [],
      "execution_count": null
    },
    {
      "cell_type": "markdown",
      "source": [
        "X = all input features (everything except the target).\n",
        "\n",
        "y = the target variable (house price)."
      ],
      "metadata": {
        "_uuid": "0e5cc265-dd53-4138-b782-aa98a632c2b5",
        "_cell_guid": "2df35fb3-3839-4718-b241-49ae7fcff0ea",
        "trusted": true,
        "collapsed": false,
        "jupyter": {
          "outputs_hidden": false
        },
        "id": "sCMKM-gXGGkf"
      }
    },
    {
      "cell_type": "code",
      "source": [
        "# Step 5: Separate categorical and numerical features\n",
        "categorical_features = X.select_dtypes(include=[\"object\"]).columns.tolist()\n",
        "numerical_features = X.select_dtypes(exclude=[\"object\"]).columns.tolist()"
      ],
      "metadata": {
        "_uuid": "e4b42542-b7a7-4f94-afd5-ef745ef89820",
        "_cell_guid": "bc4a0568-69a5-423f-b54d-52acac30345a",
        "trusted": true,
        "execution": {
          "iopub.status.busy": "2025-08-25T05:41:04.141819Z",
          "iopub.execute_input": "2025-08-25T05:41:04.142545Z",
          "iopub.status.idle": "2025-08-25T05:41:04.147416Z",
          "shell.execute_reply.started": "2025-08-25T05:41:04.142519Z",
          "shell.execute_reply": "2025-08-25T05:41:04.146595Z"
        },
        "jupyter": {
          "outputs_hidden": false
        },
        "id": "mu8NRTsaGGkg"
      },
      "outputs": [],
      "execution_count": null
    },
    {
      "cell_type": "markdown",
      "source": [
        "Automatically separates categorical vs numerical features.\n",
        "\n",
        "Categorical features need encoding, numeric features may need scaling."
      ],
      "metadata": {
        "_uuid": "41e565cb-996b-4ecf-85fc-9784839cab6d",
        "_cell_guid": "4604975d-cb24-486d-8492-a48e3680290a",
        "trusted": true,
        "collapsed": false,
        "jupyter": {
          "outputs_hidden": false
        },
        "id": "gj5X-ImJGGkg"
      }
    },
    {
      "cell_type": "code",
      "source": [
        "# Step 6: Define preprocessing for numerical and categorical\n",
        "numeric_transformer = Pipeline(steps=[\n",
        "    (\"scaler\", StandardScaler())\n",
        "])\n",
        "\n",
        "categorical_transformer = Pipeline(steps=[\n",
        "    (\"encoder\", OneHotEncoder(drop=\"first\", handle_unknown=\"ignore\"))\n",
        "])"
      ],
      "metadata": {
        "_uuid": "4debc008-6130-4990-b7cd-31ef489304a0",
        "_cell_guid": "43992ea6-793e-4f60-8dd0-eef8d2cf049f",
        "trusted": true,
        "execution": {
          "iopub.status.busy": "2025-08-25T05:41:14.362367Z",
          "iopub.execute_input": "2025-08-25T05:41:14.362683Z",
          "iopub.status.idle": "2025-08-25T05:41:14.367245Z",
          "shell.execute_reply.started": "2025-08-25T05:41:14.362661Z",
          "shell.execute_reply": "2025-08-25T05:41:14.366487Z"
        },
        "jupyter": {
          "outputs_hidden": false
        },
        "id": "il_T966gGGkg"
      },
      "outputs": [],
      "execution_count": null
    },
    {
      "cell_type": "markdown",
      "source": [
        "Numerical: Standardize values to mean=0, std=1 → important when feature ranges differ.\n",
        "\n",
        "Categorical: One-hot encode → converts categories into numeric format.\n",
        "\n",
        "drop=\"first\" avoids dummy variable trap.\n",
        "\n",
        "handle_unknown=\"ignore\" → prevents errors if a new category appears during prediction."
      ],
      "metadata": {
        "_uuid": "9cfe09f6-e091-4d3c-a7fb-e14d07e4d72b",
        "_cell_guid": "b3be6ea1-717a-4818-856b-a237e43d2468",
        "trusted": true,
        "collapsed": false,
        "jupyter": {
          "outputs_hidden": false
        },
        "id": "EIOs8CekGGkh"
      }
    },
    {
      "cell_type": "code",
      "source": [
        "# Step 7: Build ColumnTransformer\n",
        "preprocessor = ColumnTransformer(\n",
        "    transformers=[\n",
        "        (\"num\", numeric_transformer, numerical_features),\n",
        "        (\"cat\", categorical_transformer, categorical_features)\n",
        "    ]\n",
        ")"
      ],
      "metadata": {
        "_uuid": "910b05aa-c978-4a6f-a392-66eee25ae14a",
        "_cell_guid": "08eb3480-6abd-4586-895b-208e50c97b78",
        "trusted": true,
        "execution": {
          "iopub.status.busy": "2025-08-25T05:41:26.500178Z",
          "iopub.execute_input": "2025-08-25T05:41:26.500497Z",
          "iopub.status.idle": "2025-08-25T05:41:26.504973Z",
          "shell.execute_reply.started": "2025-08-25T05:41:26.500471Z",
          "shell.execute_reply": "2025-08-25T05:41:26.5041Z"
        },
        "jupyter": {
          "outputs_hidden": false
        },
        "id": "Pyk-AK2vGGkh"
      },
      "outputs": [],
      "execution_count": null
    },
    {
      "cell_type": "markdown",
      "source": [
        "Applies different preprocessing pipelines to numeric vs categorical features automatically.\n",
        "\n",
        "This ensures the model gets clean numeric input."
      ],
      "metadata": {
        "_uuid": "427ad309-b1d2-4427-b6b6-ab226f931256",
        "_cell_guid": "517ea958-1226-4f20-8a29-9d8a57fc526e",
        "trusted": true,
        "collapsed": false,
        "jupyter": {
          "outputs_hidden": false
        },
        "id": "VTL1M7QhGGki"
      }
    },
    {
      "cell_type": "code",
      "source": [
        "# Step 8: Build pipeline (preprocessing + model)\n",
        "model = Pipeline(steps=[\n",
        "    (\"preprocessor\", preprocessor),\n",
        "    (\"regressor\", LinearRegression())\n",
        "])"
      ],
      "metadata": {
        "_uuid": "04aa3a75-312a-45f9-b81d-be70c64b61d0",
        "_cell_guid": "81022ca6-0238-48ea-940b-a8887d1fd0a1",
        "trusted": true,
        "execution": {
          "iopub.status.busy": "2025-08-25T05:41:38.886506Z",
          "iopub.execute_input": "2025-08-25T05:41:38.887294Z",
          "iopub.status.idle": "2025-08-25T05:41:38.891341Z",
          "shell.execute_reply.started": "2025-08-25T05:41:38.887262Z",
          "shell.execute_reply": "2025-08-25T05:41:38.890479Z"
        },
        "jupyter": {
          "outputs_hidden": false
        },
        "id": "XuOlpoO0GGki"
      },
      "outputs": [],
      "execution_count": null
    },
    {
      "cell_type": "markdown",
      "source": [
        "Bundles preprocessing and the model into one reusable object.\n",
        "\n",
        "This prevents data leakage: same preprocessing is applied to both training and new data."
      ],
      "metadata": {
        "_uuid": "f692dda0-3726-42da-9ce6-4b022c3acf70",
        "_cell_guid": "54177c55-3922-4da3-9ccf-f3ea761223af",
        "trusted": true,
        "collapsed": false,
        "jupyter": {
          "outputs_hidden": false
        },
        "id": "GKJdtmzZGGkj"
      }
    },
    {
      "cell_type": "code",
      "source": [
        "# Step 9: Train-test split\n",
        "X_train, X_test, y_train, y_test = train_test_split(\n",
        "    X, y, test_size=0.2, random_state=RANDOM_STATE\n",
        ")"
      ],
      "metadata": {
        "_uuid": "b730190d-205a-4570-aa30-766c86180225",
        "_cell_guid": "ab40043b-d8fe-4cc4-9885-6a9b574977ca",
        "trusted": true,
        "execution": {
          "iopub.status.busy": "2025-08-25T05:41:51.966233Z",
          "iopub.execute_input": "2025-08-25T05:41:51.966581Z",
          "iopub.status.idle": "2025-08-25T05:41:51.973301Z",
          "shell.execute_reply.started": "2025-08-25T05:41:51.966554Z",
          "shell.execute_reply": "2025-08-25T05:41:51.972352Z"
        },
        "jupyter": {
          "outputs_hidden": false
        },
        "id": "nWlHH3q9GGkj"
      },
      "outputs": [],
      "execution_count": null
    },
    {
      "cell_type": "markdown",
      "source": [
        "Splits data into training set (80%) and test set (20%).\n",
        "\n",
        "random_state ensures reproducibility."
      ],
      "metadata": {
        "_uuid": "334cf42e-9acb-41f1-b9f5-9d8285694b39",
        "_cell_guid": "70b413e9-dfc6-4353-bcf3-e00831970487",
        "trusted": true,
        "collapsed": false,
        "jupyter": {
          "outputs_hidden": false
        },
        "id": "jysk9Cd4GGkj"
      }
    },
    {
      "cell_type": "code",
      "source": [
        "# Step 10: Train model\n",
        "model.fit(X_train, y_train)"
      ],
      "metadata": {
        "_uuid": "f1f0c1bc-df90-4058-bfe9-4a65a81df3e6",
        "_cell_guid": "69ee7146-2de4-4b44-b2f8-4b1fcde189db",
        "trusted": true,
        "execution": {
          "iopub.status.busy": "2025-08-25T05:42:01.399509Z",
          "iopub.execute_input": "2025-08-25T05:42:01.399821Z",
          "iopub.status.idle": "2025-08-25T05:42:01.446522Z",
          "shell.execute_reply.started": "2025-08-25T05:42:01.399799Z",
          "shell.execute_reply": "2025-08-25T05:42:01.445734Z"
        },
        "jupyter": {
          "outputs_hidden": false
        },
        "id": "DOqCBjp2GGkk"
      },
      "outputs": [],
      "execution_count": null
    },
    {
      "cell_type": "markdown",
      "source": [
        "Fits the pipeline:\n",
        "\n",
        "Preprocesses X_train (scaling + encoding).\n",
        "\n",
        "Fits LinearRegression on preprocessed data."
      ],
      "metadata": {
        "_uuid": "a11677d2-51c5-49f8-8c7f-5fee0d757163",
        "_cell_guid": "b53f4963-2373-4ba7-812b-38aaabc2df09",
        "trusted": true,
        "collapsed": false,
        "jupyter": {
          "outputs_hidden": false
        },
        "id": "yBUm8oSKGGkk"
      }
    },
    {
      "cell_type": "code",
      "source": [
        "# Step 11: Cross-validation (for more reliable evaluation)\n",
        "cv_scores = cross_val_score(model, X, y, cv=5, scoring=\"r2\")\n",
        "print(\"Cross-validated R² scores:\", cv_scores)\n",
        "print(\"Mean CV R²:\", np.mean(cv_scores))"
      ],
      "metadata": {
        "_uuid": "1f470dc1-43ae-4b1a-9ea9-0d50dee64657",
        "_cell_guid": "77a03e7d-0f67-42f7-b574-c510fc5beb6b",
        "trusted": true,
        "execution": {
          "iopub.status.busy": "2025-08-25T05:42:13.604666Z",
          "iopub.execute_input": "2025-08-25T05:42:13.605333Z",
          "iopub.status.idle": "2025-08-25T05:42:13.684457Z",
          "shell.execute_reply.started": "2025-08-25T05:42:13.605306Z",
          "shell.execute_reply": "2025-08-25T05:42:13.68362Z"
        },
        "jupyter": {
          "outputs_hidden": false
        },
        "id": "SaTYw6zDGGkl"
      },
      "outputs": [],
      "execution_count": null
    },
    {
      "cell_type": "code",
      "source": [
        "# Step 12: Evaluate on holdout test set\n",
        "y_pred = model.predict(X_test)\n",
        "print(\"Test MSE:\", mean_squared_error(y_test, y_pred))\n",
        "print(\"Test R²:\", r2_score(y_test, y_pred))"
      ],
      "metadata": {
        "_uuid": "b74d8039-dfe0-4e5a-ba6c-48f14bb9f2fb",
        "_cell_guid": "f4e6083f-0748-470d-826f-77b98b467dd9",
        "trusted": true,
        "execution": {
          "iopub.status.busy": "2025-08-25T05:42:24.324651Z",
          "iopub.execute_input": "2025-08-25T05:42:24.324927Z",
          "iopub.status.idle": "2025-08-25T05:42:24.337238Z",
          "shell.execute_reply.started": "2025-08-25T05:42:24.324907Z",
          "shell.execute_reply": "2025-08-25T05:42:24.336452Z"
        },
        "jupyter": {
          "outputs_hidden": false
        },
        "id": "y_kTgGNDGGkl"
      },
      "outputs": [],
      "execution_count": null
    },
    {
      "cell_type": "code",
      "source": [
        "# Step 13: Predict on new data (raw dict, just like production API input)\n",
        "new_house = pd.DataFrame([{\n",
        "    \"area\": 2000,\n",
        "    \"bedrooms\": 3,\n",
        "    \"bathrooms\": 2,\n",
        "    \"stories\": 2,\n",
        "    \"mainroad\": \"yes\",\n",
        "    \"guestroom\": \"no\",\n",
        "    \"basement\": \"yes\",\n",
        "    \"hotwaterheating\": \"no\",\n",
        "    \"airconditioning\": \"yes\",\n",
        "    \"parking\": 1,\n",
        "    \"prefarea\": \"yes\",\n",
        "    \"furnishingstatus\": \"semi-furnished\"\n",
        "}])\n",
        "\n",
        "predicted_price = model.predict(new_house)\n",
        "print(\"Predicted Price:\", predicted_price[0])"
      ],
      "metadata": {
        "_uuid": "7ac6e149-d348-482f-9118-d23a1988c0fb",
        "_cell_guid": "46290ab5-c394-4f34-99cf-90cf13d67a71",
        "trusted": true,
        "execution": {
          "iopub.status.busy": "2025-08-25T05:42:44.487993Z",
          "iopub.execute_input": "2025-08-25T05:42:44.488995Z",
          "iopub.status.idle": "2025-08-25T05:42:44.500734Z",
          "shell.execute_reply.started": "2025-08-25T05:42:44.488938Z",
          "shell.execute_reply": "2025-08-25T05:42:44.499846Z"
        },
        "jupyter": {
          "outputs_hidden": false
        },
        "id": "M6gZTH-dGGkm"
      },
      "outputs": [],
      "execution_count": null
    },
    {
      "cell_type": "code",
      "source": [
        "# Step 14: Save the trained pipeline (model + preprocessing bundled)\n",
        "joblib.dump(model, \"linear_regression_housing.pkl\")\n",
        "print(\"Model saved as linear_regression_housing.pkl\")"
      ],
      "metadata": {
        "_uuid": "c2d56198-30cc-4cec-b148-34a91d714cd4",
        "_cell_guid": "2840b580-3441-4485-b6d6-f7c101c6fea8",
        "trusted": true,
        "execution": {
          "iopub.status.busy": "2025-08-25T05:42:54.882162Z",
          "iopub.execute_input": "2025-08-25T05:42:54.883006Z",
          "iopub.status.idle": "2025-08-25T05:42:54.890746Z",
          "shell.execute_reply.started": "2025-08-25T05:42:54.882946Z",
          "shell.execute_reply": "2025-08-25T05:42:54.88992Z"
        },
        "jupyter": {
          "outputs_hidden": false
        },
        "id": "fyqWfAS5GGkm"
      },
      "outputs": [],
      "execution_count": null
    },
    {
      "cell_type": "markdown",
      "source": [
        "Saves pipeline as a single file.\n",
        "\n",
        "In production, you can load it anywhere (joblib.load) and predict new houses without retraining."
      ],
      "metadata": {
        "_uuid": "240555fc-46d6-45ee-bbc5-20c096bc2705",
        "_cell_guid": "746a10d9-cb25-426d-945a-26ccc612642b",
        "trusted": true,
        "collapsed": false,
        "jupyter": {
          "outputs_hidden": false
        },
        "id": "f_sIKJT6GGkn"
      }
    },
    {
      "cell_type": "code",
      "source": [
        "# 🔹 Predicted vs Actual Visualization\n",
        "plt.figure(figsize=(8,8))\n",
        "plt.scatter(y_test, y_pred, alpha=0.6, color=\"blue\", edgecolors=\"k\", label=\"Predictions\")\n",
        "plt.plot([y_test.min(), y_test.max()], [y_test.min(), y_test.max()],\n",
        "         color=\"red\", linestyle=\"--\", linewidth=2, label=\"Perfect Prediction Line\")\n",
        "\n",
        "plt.xlabel(\"Actual House Prices\", fontsize=12)\n",
        "plt.ylabel(\"Predicted House Prices\", fontsize=12)\n",
        "plt.title(\"Predicted vs Actual House Prices\", fontsize=14)\n",
        "plt.legend()\n",
        "plt.grid(True, linestyle=\"--\", alpha=0.7)\n",
        "plt.show()"
      ],
      "metadata": {
        "_uuid": "f25e0a71-42ee-4ef0-a3ac-07defa38fdac",
        "_cell_guid": "7d5c65c9-3e36-40e1-851c-598fd08d32bd",
        "trusted": true,
        "execution": {
          "iopub.status.busy": "2025-08-25T05:45:39.381354Z",
          "iopub.execute_input": "2025-08-25T05:45:39.382222Z",
          "iopub.status.idle": "2025-08-25T05:45:39.623552Z",
          "shell.execute_reply.started": "2025-08-25T05:45:39.382192Z",
          "shell.execute_reply": "2025-08-25T05:45:39.622561Z"
        },
        "jupyter": {
          "outputs_hidden": false
        },
        "id": "tBbkLlKEGGkn"
      },
      "outputs": [],
      "execution_count": null
    }
  ]
}
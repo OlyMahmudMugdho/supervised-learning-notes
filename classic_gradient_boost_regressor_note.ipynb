{
  "metadata": {
    "kernelspec": {
      "language": "python",
      "display_name": "Python 3",
      "name": "python3"
    },
    "language_info": {
      "name": "python",
      "version": "3.11.13",
      "mimetype": "text/x-python",
      "codemirror_mode": {
        "name": "ipython",
        "version": 3
      },
      "pygments_lexer": "ipython3",
      "nbconvert_exporter": "python",
      "file_extension": ".py"
    },
    "kaggle": {
      "accelerator": "none",
      "dataSources": [
        {
          "sourceId": 2965537,
          "sourceType": "datasetVersion",
          "datasetId": 1818188
        }
      ],
      "dockerImageVersionId": 31089,
      "isInternetEnabled": true,
      "language": "python",
      "sourceType": "notebook",
      "isGpuEnabled": false
    },
    "colab": {
      "name": "classic-gradient-boost-regressor-note",
      "provenance": [],
      "include_colab_link": true
    }
  },
  "nbformat_minor": 0,
  "nbformat": 4,
  "cells": [
    {
      "cell_type": "markdown",
      "metadata": {
        "id": "view-in-github",
        "colab_type": "text"
      },
      "source": [
        "<a href=\"https://colab.research.google.com/github/OlyMahmudMugdho/supervised-learning-notes/blob/main/classic_gradient_boost_regressor_note.ipynb\" target=\"_parent\"><img src=\"https://colab.research.google.com/assets/colab-badge.svg\" alt=\"Open In Colab\"/></a>"
      ]
    },
    {
      "source": [
        "# IMPORTANT: RUN THIS CELL IN ORDER TO IMPORT YOUR KAGGLE DATA SOURCES,\n",
        "# THEN FEEL FREE TO DELETE THIS CELL.\n",
        "# NOTE: THIS NOTEBOOK ENVIRONMENT DIFFERS FROM KAGGLE'S PYTHON\n",
        "# ENVIRONMENT SO THERE MAY BE MISSING LIBRARIES USED BY YOUR\n",
        "# NOTEBOOK.\n",
        "import kagglehub\n",
        "yasserh_titanic_dataset_path = kagglehub.dataset_download('yasserh/titanic-dataset')\n",
        "\n",
        "print('Data source import complete.')\n"
      ],
      "metadata": {
        "id": "dkwazOoNKmhm"
      },
      "cell_type": "code",
      "outputs": [],
      "execution_count": null
    },
    {
      "cell_type": "code",
      "source": [
        "# 1. Imports\n",
        "import pandas as pd\n",
        "import numpy as np\n",
        "import matplotlib.pyplot as plt\n",
        "import seaborn as sns\n",
        "\n",
        "from sklearn.model_selection import train_test_split\n",
        "from sklearn.preprocessing import StandardScaler\n",
        "from sklearn.ensemble import GradientBoostingClassifier\n",
        "from sklearn.metrics import accuracy_score, classification_report, confusion_matrix, roc_curve, roc_auc_score"
      ],
      "metadata": {
        "_uuid": "901483a6-b1bc-47e8-980e-3c316153c7ff",
        "_cell_guid": "cf5f0824-ba22-4516-80ae-411243050367",
        "trusted": true,
        "execution": {
          "iopub.status.busy": "2025-08-25T10:19:09.868307Z",
          "iopub.execute_input": "2025-08-25T10:19:09.868748Z",
          "iopub.status.idle": "2025-08-25T10:19:09.873507Z",
          "shell.execute_reply.started": "2025-08-25T10:19:09.868717Z",
          "shell.execute_reply": "2025-08-25T10:19:09.872712Z"
        },
        "jupyter": {
          "outputs_hidden": false
        },
        "id": "VCBJffq1Kmhr"
      },
      "outputs": [],
      "execution_count": null
    },
    {
      "cell_type": "code",
      "source": [
        "# 2. Load Dataset\n",
        "df = pd.read_csv(\"/kaggle/input/titanic-dataset/Titanic-Dataset.csv\")"
      ],
      "metadata": {
        "_uuid": "6f7757e6-bab8-46f2-8d2a-023e8872e712",
        "_cell_guid": "cad2969f-6272-40dc-bf58-762f0bb78f77",
        "trusted": true,
        "execution": {
          "iopub.status.busy": "2025-08-25T10:19:10.013319Z",
          "iopub.execute_input": "2025-08-25T10:19:10.014329Z",
          "iopub.status.idle": "2025-08-25T10:19:10.031268Z",
          "shell.execute_reply.started": "2025-08-25T10:19:10.014294Z",
          "shell.execute_reply": "2025-08-25T10:19:10.030487Z"
        },
        "jupyter": {
          "outputs_hidden": false
        },
        "id": "vt9tFtWlKmhs"
      },
      "outputs": [],
      "execution_count": null
    },
    {
      "cell_type": "code",
      "source": [
        "# 3. Data Preprocessing\n",
        "df.columns = df.columns.str.strip()  # remove whitespace\n",
        "\n",
        "# Fill missing numeric columns with median\n",
        "numeric_cols = df.select_dtypes(include=[np.number]).columns.tolist()\n",
        "df[numeric_cols] = df[numeric_cols].fillna(df[numeric_cols].median())\n",
        "\n",
        "# Fill missing categorical columns with mode\n",
        "categorical_cols = df.select_dtypes(include=[object]).columns.tolist()\n",
        "for col in categorical_cols:\n",
        "    df[col] = df[col].fillna(df[col].mode()[0])\n",
        "\n",
        "# Drop irrelevant columns\n",
        "cols_to_drop = [col for col in ['Name', 'Ticket', 'Cabin'] if col in df.columns]\n",
        "df.drop(columns=cols_to_drop, inplace=True)\n",
        "\n",
        "# One-hot encode categorical variables\n",
        "df = pd.get_dummies(df, drop_first=True)"
      ],
      "metadata": {
        "_uuid": "f461d6f8-1754-4bea-9cb9-b20354ee0bc9",
        "_cell_guid": "0f59491b-ec0d-49d2-866c-020a732257a8",
        "trusted": true,
        "execution": {
          "iopub.status.busy": "2025-08-25T10:19:10.032507Z",
          "iopub.execute_input": "2025-08-25T10:19:10.033154Z",
          "iopub.status.idle": "2025-08-25T10:19:10.051332Z",
          "shell.execute_reply.started": "2025-08-25T10:19:10.033121Z",
          "shell.execute_reply": "2025-08-25T10:19:10.050482Z"
        },
        "jupyter": {
          "outputs_hidden": false
        },
        "id": "BqbYjet4Kmhu"
      },
      "outputs": [],
      "execution_count": null
    },
    {
      "cell_type": "code",
      "source": [
        "# 4. Define features and target\n",
        "X = df.drop('Survived', axis=1)\n",
        "y = df['Survived']"
      ],
      "metadata": {
        "_uuid": "ac2881f2-3df2-4382-8993-67e346279b34",
        "_cell_guid": "8d73e00f-4061-49dd-a1f1-f3a32abf58ae",
        "trusted": true,
        "execution": {
          "iopub.status.busy": "2025-08-25T10:19:10.052135Z",
          "iopub.execute_input": "2025-08-25T10:19:10.052342Z",
          "iopub.status.idle": "2025-08-25T10:19:10.061545Z",
          "shell.execute_reply.started": "2025-08-25T10:19:10.052324Z",
          "shell.execute_reply": "2025-08-25T10:19:10.060928Z"
        },
        "jupyter": {
          "outputs_hidden": false
        },
        "id": "6Sg9rwjzKmhu"
      },
      "outputs": [],
      "execution_count": null
    },
    {
      "cell_type": "code",
      "source": [
        "# 5. Train-test split\n",
        "X_train, X_test, y_train, y_test = train_test_split(\n",
        "    X, y, test_size=0.2, random_state=42\n",
        ")"
      ],
      "metadata": {
        "_uuid": "2a360df6-507d-4931-b519-859a2fd70154",
        "_cell_guid": "a9a95b9d-f7d1-4f0c-9a26-d7895870f613",
        "trusted": true,
        "execution": {
          "iopub.status.busy": "2025-08-25T10:19:10.076325Z",
          "iopub.execute_input": "2025-08-25T10:19:10.077158Z",
          "iopub.status.idle": "2025-08-25T10:19:10.084009Z",
          "shell.execute_reply.started": "2025-08-25T10:19:10.077127Z",
          "shell.execute_reply": "2025-08-25T10:19:10.082974Z"
        },
        "jupyter": {
          "outputs_hidden": false
        },
        "id": "tJeLIDqBKmhv"
      },
      "outputs": [],
      "execution_count": null
    },
    {
      "cell_type": "code",
      "source": [
        "# 6. Optional Feature Scaling\n",
        "scaler = StandardScaler()\n",
        "X_train_scaled = scaler.fit_transform(X_train)\n",
        "X_test_scaled = scaler.transform(X_test)"
      ],
      "metadata": {
        "_uuid": "a1bccf71-ad79-498f-be9b-77657fd0b0ae",
        "_cell_guid": "94118dca-33d5-4bd7-8bfe-7628657c1d0b",
        "trusted": true,
        "execution": {
          "iopub.status.busy": "2025-08-25T10:19:10.085223Z",
          "iopub.execute_input": "2025-08-25T10:19:10.085556Z",
          "iopub.status.idle": "2025-08-25T10:19:10.10362Z",
          "shell.execute_reply.started": "2025-08-25T10:19:10.085534Z",
          "shell.execute_reply": "2025-08-25T10:19:10.10284Z"
        },
        "jupyter": {
          "outputs_hidden": false
        },
        "id": "a4DL8AhYKmhv"
      },
      "outputs": [],
      "execution_count": null
    },
    {
      "cell_type": "code",
      "source": [
        "# 7. Train Gradient Boosting Classifier\n",
        "gb_clf = GradientBoostingClassifier(\n",
        "    n_estimators=200, learning_rate=0.1, max_depth=3, random_state=42\n",
        ")\n",
        "gb_clf.fit(X_train_scaled, y_train)"
      ],
      "metadata": {
        "_uuid": "d7678f5f-bb18-4de8-916b-04d5663ab299",
        "_cell_guid": "baa1c5a6-f6b0-4dfa-b5b4-236f908e8966",
        "trusted": true,
        "execution": {
          "iopub.status.busy": "2025-08-25T10:19:10.12149Z",
          "iopub.execute_input": "2025-08-25T10:19:10.122456Z",
          "iopub.status.idle": "2025-08-25T10:19:10.389643Z",
          "shell.execute_reply.started": "2025-08-25T10:19:10.122417Z",
          "shell.execute_reply": "2025-08-25T10:19:10.388916Z"
        },
        "jupyter": {
          "outputs_hidden": false
        },
        "id": "DfeTr0j1Kmhw"
      },
      "outputs": [],
      "execution_count": null
    },
    {
      "cell_type": "code",
      "source": [
        "# 8. Predictions\n",
        "y_pred = gb_clf.predict(X_test_scaled)\n",
        "y_proba = gb_clf.predict_proba(X_test_scaled)[:,1]"
      ],
      "metadata": {
        "_uuid": "9b640942-eff9-48fd-aae6-6cf0753a1bab",
        "_cell_guid": "6ac6b0d8-185f-4970-bb3f-a8ab73f31554",
        "trusted": true,
        "execution": {
          "iopub.status.busy": "2025-08-25T10:19:10.391134Z",
          "iopub.execute_input": "2025-08-25T10:19:10.391799Z",
          "iopub.status.idle": "2025-08-25T10:19:10.39776Z",
          "shell.execute_reply.started": "2025-08-25T10:19:10.391775Z",
          "shell.execute_reply": "2025-08-25T10:19:10.396931Z"
        },
        "jupyter": {
          "outputs_hidden": false
        },
        "id": "VvPSErbLKmhx"
      },
      "outputs": [],
      "execution_count": null
    },
    {
      "cell_type": "code",
      "source": [
        "# 9. Evaluation\n",
        "accuracy = accuracy_score(y_test, y_pred)\n",
        "print(\"Accuracy:\", accuracy)\n",
        "print(\"\\nClassification Report:\\n\", classification_report(y_test, y_pred))"
      ],
      "metadata": {
        "_uuid": "9cc82f98-972d-491f-aa13-3af762745120",
        "_cell_guid": "a3f56f90-b3cf-4559-bb4c-19f189d674d3",
        "trusted": true,
        "execution": {
          "iopub.status.busy": "2025-08-25T10:19:10.398531Z",
          "iopub.execute_input": "2025-08-25T10:19:10.398887Z",
          "iopub.status.idle": "2025-08-25T10:19:10.420447Z",
          "shell.execute_reply.started": "2025-08-25T10:19:10.398867Z",
          "shell.execute_reply": "2025-08-25T10:19:10.419671Z"
        },
        "jupyter": {
          "outputs_hidden": false
        },
        "id": "sS0FyAp_Kmhy"
      },
      "outputs": [],
      "execution_count": null
    },
    {
      "cell_type": "code",
      "source": [
        "# Confusion Matrix\n",
        "cm = confusion_matrix(y_test, y_pred)\n",
        "plt.figure(figsize=(6,5))\n",
        "sns.heatmap(cm, annot=True, fmt=\"d\", cmap=\"Blues\", xticklabels=[\"Died\", \"Survived\"], yticklabels=[\"Died\", \"Survived\"])\n",
        "plt.xlabel(\"Predicted\")\n",
        "plt.ylabel(\"Actual\")\n",
        "plt.title(\"Gradient Boosting Classifier Confusion Matrix\")\n",
        "plt.show()"
      ],
      "metadata": {
        "_uuid": "6c13c0da-ee58-4469-aaf3-0af95dc5fb5a",
        "_cell_guid": "32f9e690-c177-4821-8544-013eb7ec48f0",
        "trusted": true,
        "execution": {
          "iopub.status.busy": "2025-08-25T10:19:10.421362Z",
          "iopub.execute_input": "2025-08-25T10:19:10.422086Z",
          "iopub.status.idle": "2025-08-25T10:19:10.604355Z",
          "shell.execute_reply.started": "2025-08-25T10:19:10.422057Z",
          "shell.execute_reply": "2025-08-25T10:19:10.603484Z"
        },
        "jupyter": {
          "outputs_hidden": false
        },
        "id": "y2-xVRVMKmhz"
      },
      "outputs": [],
      "execution_count": null
    },
    {
      "cell_type": "code",
      "source": [
        "# ROC Curve\n",
        "fpr, tpr, thresholds = roc_curve(y_test, y_proba)\n",
        "auc = roc_auc_score(y_test, y_proba)\n",
        "plt.figure(figsize=(8,6))\n",
        "plt.plot(fpr, tpr, label=f\"ROC curve (AUC = {auc:.2f})\")\n",
        "plt.plot([0,1], [0,1], color='red', linestyle='--')\n",
        "plt.xlabel(\"False Positive Rate\")\n",
        "plt.ylabel(\"True Positive Rate\")\n",
        "plt.title(\"Gradient Boosting Classifier ROC Curve\")\n",
        "plt.legend()\n",
        "plt.show()"
      ],
      "metadata": {
        "_uuid": "5ad7a9cf-4c9a-4ab1-a125-771ca621485f",
        "_cell_guid": "0701e6ac-d109-40f7-b8a9-205f9404240b",
        "trusted": true,
        "execution": {
          "iopub.status.busy": "2025-08-25T10:19:10.605986Z",
          "iopub.execute_input": "2025-08-25T10:19:10.606203Z",
          "iopub.status.idle": "2025-08-25T10:19:10.794484Z",
          "shell.execute_reply.started": "2025-08-25T10:19:10.606187Z",
          "shell.execute_reply": "2025-08-25T10:19:10.793696Z"
        },
        "jupyter": {
          "outputs_hidden": false
        },
        "id": "STByF71RKmhz"
      },
      "outputs": [],
      "execution_count": null
    },
    {
      "cell_type": "code",
      "source": [
        "# Feature Importance\n",
        "feat_imp = pd.DataFrame({\n",
        "    'Feature': X.columns,\n",
        "    'Importance': gb_clf.feature_importances_\n",
        "}).sort_values(by='Importance', ascending=False)\n",
        "\n",
        "plt.figure(figsize=(10,6))\n",
        "sns.barplot(x='Importance', y='Feature', data=feat_imp.head(10))\n",
        "plt.title(\"Top 10 Feature Importances\")\n",
        "plt.show()"
      ],
      "metadata": {
        "_uuid": "95ec12bc-5724-4967-b30e-25b9c6f31412",
        "_cell_guid": "ffffaccd-8374-463c-8267-c7a8c4555f11",
        "trusted": true,
        "execution": {
          "iopub.status.busy": "2025-08-25T10:19:10.795354Z",
          "iopub.execute_input": "2025-08-25T10:19:10.796275Z",
          "iopub.status.idle": "2025-08-25T10:19:10.986613Z",
          "shell.execute_reply.started": "2025-08-25T10:19:10.796248Z",
          "shell.execute_reply": "2025-08-25T10:19:10.98579Z"
        },
        "jupyter": {
          "outputs_hidden": false
        },
        "id": "78TbG_4qKmh0"
      },
      "outputs": [],
      "execution_count": null
    }
  ]
}
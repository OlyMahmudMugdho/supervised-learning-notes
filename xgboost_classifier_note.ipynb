{
  "metadata": {
    "kernelspec": {
      "language": "python",
      "display_name": "Python 3",
      "name": "python3"
    },
    "language_info": {
      "name": "python",
      "version": "3.11.13",
      "mimetype": "text/x-python",
      "codemirror_mode": {
        "name": "ipython",
        "version": 3
      },
      "pygments_lexer": "ipython3",
      "nbconvert_exporter": "python",
      "file_extension": ".py"
    },
    "kaggle": {
      "accelerator": "none",
      "dataSources": [
        {
          "sourceId": 2965537,
          "sourceType": "datasetVersion",
          "datasetId": 1818188
        }
      ],
      "dockerImageVersionId": 31089,
      "isInternetEnabled": true,
      "language": "python",
      "sourceType": "notebook",
      "isGpuEnabled": false
    },
    "colab": {
      "name": "xgboost-classifier-note",
      "provenance": [],
      "include_colab_link": true
    }
  },
  "nbformat_minor": 0,
  "nbformat": 4,
  "cells": [
    {
      "cell_type": "markdown",
      "metadata": {
        "id": "view-in-github",
        "colab_type": "text"
      },
      "source": [
        "<a href=\"https://colab.research.google.com/github/OlyMahmudMugdho/supervised-learning-notes/blob/main/xgboost_classifier_note.ipynb\" target=\"_parent\"><img src=\"https://colab.research.google.com/assets/colab-badge.svg\" alt=\"Open In Colab\"/></a>"
      ]
    },
    {
      "source": [
        "# IMPORTANT: RUN THIS CELL IN ORDER TO IMPORT YOUR KAGGLE DATA SOURCES,\n",
        "# THEN FEEL FREE TO DELETE THIS CELL.\n",
        "# NOTE: THIS NOTEBOOK ENVIRONMENT DIFFERS FROM KAGGLE'S PYTHON\n",
        "# ENVIRONMENT SO THERE MAY BE MISSING LIBRARIES USED BY YOUR\n",
        "# NOTEBOOK.\n",
        "import kagglehub\n",
        "yasserh_titanic_dataset_path = kagglehub.dataset_download('yasserh/titanic-dataset')\n",
        "\n",
        "print('Data source import complete.')\n"
      ],
      "metadata": {
        "id": "kFfPt3LeK9Sx"
      },
      "cell_type": "code",
      "outputs": [],
      "execution_count": null
    },
    {
      "cell_type": "code",
      "source": [
        "# 1. Imports\n",
        "import pandas as pd\n",
        "import numpy as np\n",
        "import matplotlib.pyplot as plt\n",
        "import seaborn as sns\n",
        "\n",
        "from sklearn.model_selection import train_test_split\n",
        "from sklearn.preprocessing import StandardScaler\n",
        "from sklearn.metrics import accuracy_score, classification_report, confusion_matrix, roc_auc_score, roc_curve\n",
        "import xgboost as xgb"
      ],
      "metadata": {
        "_uuid": "78a7f25b-fca7-4c79-9179-1f0d69ea1e15",
        "_cell_guid": "3559335b-93c5-4b53-9154-5e08a68fd708",
        "trusted": true,
        "execution": {
          "iopub.status.busy": "2025-08-25T10:35:23.663009Z",
          "iopub.execute_input": "2025-08-25T10:35:23.663297Z",
          "iopub.status.idle": "2025-08-25T10:35:29.150789Z",
          "shell.execute_reply.started": "2025-08-25T10:35:23.663274Z",
          "shell.execute_reply": "2025-08-25T10:35:29.149437Z"
        },
        "jupyter": {
          "outputs_hidden": false
        },
        "id": "eyiqpd2GK9S1"
      },
      "outputs": [],
      "execution_count": null
    },
    {
      "cell_type": "code",
      "source": [
        "# 2. Load Dataset\n",
        "df = pd.read_csv(\"/kaggle/input/titanic-dataset/Titanic-Dataset.csv\")\n",
        "df.columns = df.columns.str.strip()"
      ],
      "metadata": {
        "_uuid": "489ce801-5d86-4dee-afbd-b5f4f2d21582",
        "_cell_guid": "84fc1ff4-ca85-4076-b3c7-05e96748e9d0",
        "trusted": true,
        "execution": {
          "iopub.status.busy": "2025-08-25T10:35:29.151906Z",
          "iopub.execute_input": "2025-08-25T10:35:29.152751Z",
          "iopub.status.idle": "2025-08-25T10:35:29.186999Z",
          "shell.execute_reply.started": "2025-08-25T10:35:29.152724Z",
          "shell.execute_reply": "2025-08-25T10:35:29.185894Z"
        },
        "jupyter": {
          "outputs_hidden": false
        },
        "id": "qf7bsRUwK9S2"
      },
      "outputs": [],
      "execution_count": null
    },
    {
      "cell_type": "code",
      "source": [
        "# 3. Data Preprocessing\n",
        "numeric_cols = df.select_dtypes(include=[np.number]).columns.tolist()\n",
        "df[numeric_cols] = df[numeric_cols].fillna(df[numeric_cols].median())\n",
        "\n",
        "categorical_cols = df.select_dtypes(include=[object]).columns.tolist()\n",
        "for col in categorical_cols:\n",
        "    df[col] = df[col].fillna(df[col].mode()[0])\n",
        "\n",
        "cols_to_drop = [col for col in ['Name', 'Ticket', 'Cabin'] if col in df.columns]\n",
        "df.drop(columns=cols_to_drop, inplace=True)\n",
        "\n",
        "df = pd.get_dummies(df, drop_first=True)"
      ],
      "metadata": {
        "_uuid": "a93cf7b0-0dc1-4c06-a4c9-2340cffd320c",
        "_cell_guid": "b7bd5c0f-1778-485e-b008-b8f1e07766b3",
        "trusted": true,
        "execution": {
          "iopub.status.busy": "2025-08-25T10:35:29.189688Z",
          "iopub.execute_input": "2025-08-25T10:35:29.190076Z",
          "iopub.status.idle": "2025-08-25T10:35:29.238569Z",
          "shell.execute_reply.started": "2025-08-25T10:35:29.190043Z",
          "shell.execute_reply": "2025-08-25T10:35:29.237474Z"
        },
        "jupyter": {
          "outputs_hidden": false
        },
        "id": "hK5MRDJ2K9S2"
      },
      "outputs": [],
      "execution_count": null
    },
    {
      "cell_type": "code",
      "source": [
        "# 4. Define features and target\n",
        "X = df.drop('Survived', axis=1)\n",
        "y = df['Survived']"
      ],
      "metadata": {
        "_uuid": "738ea05c-b25c-49b9-a5d1-3b631b57d4b3",
        "_cell_guid": "eb5e5ddf-ff7d-4f5d-8370-340787ab7d33",
        "trusted": true,
        "execution": {
          "iopub.status.busy": "2025-08-25T10:35:29.239626Z",
          "iopub.execute_input": "2025-08-25T10:35:29.23992Z",
          "iopub.status.idle": "2025-08-25T10:35:29.248809Z",
          "shell.execute_reply.started": "2025-08-25T10:35:29.239895Z",
          "shell.execute_reply": "2025-08-25T10:35:29.247382Z"
        },
        "jupyter": {
          "outputs_hidden": false
        },
        "id": "GgjWDz61K9S3"
      },
      "outputs": [],
      "execution_count": null
    },
    {
      "cell_type": "code",
      "source": [
        "# 5. Train-test split\n",
        "X_train, X_test, y_train, y_test = train_test_split(\n",
        "    X, y, test_size=0.2, random_state=42\n",
        ")"
      ],
      "metadata": {
        "_uuid": "0550070b-6dd8-467a-9277-29bbfeac6764",
        "_cell_guid": "f0248214-7ba4-45e8-aa91-bd86f035b073",
        "trusted": true,
        "execution": {
          "iopub.status.busy": "2025-08-25T10:35:29.250231Z",
          "iopub.execute_input": "2025-08-25T10:35:29.250727Z",
          "iopub.status.idle": "2025-08-25T10:35:29.276812Z",
          "shell.execute_reply.started": "2025-08-25T10:35:29.250571Z",
          "shell.execute_reply": "2025-08-25T10:35:29.275656Z"
        },
        "jupyter": {
          "outputs_hidden": false
        },
        "id": "BI_C3RksK9S4"
      },
      "outputs": [],
      "execution_count": null
    },
    {
      "cell_type": "code",
      "source": [
        "# 6. Optional scaling\n",
        "scaler = StandardScaler()\n",
        "X_train_scaled = scaler.fit_transform(X_train)\n",
        "X_test_scaled = scaler.transform(X_test)"
      ],
      "metadata": {
        "_uuid": "98e14a60-2086-4574-9608-ff4a0f6248e2",
        "_cell_guid": "5bfc13fd-8cfa-470e-b863-a2cca0d7932c",
        "trusted": true,
        "execution": {
          "iopub.status.busy": "2025-08-25T10:35:29.278086Z",
          "iopub.execute_input": "2025-08-25T10:35:29.278461Z",
          "iopub.status.idle": "2025-08-25T10:35:29.310235Z",
          "shell.execute_reply.started": "2025-08-25T10:35:29.278426Z",
          "shell.execute_reply": "2025-08-25T10:35:29.30916Z"
        },
        "jupyter": {
          "outputs_hidden": false
        },
        "id": "ANWSv_w_K9S4"
      },
      "outputs": [],
      "execution_count": null
    },
    {
      "cell_type": "code",
      "source": [
        "# 7. Train XGBoost Classifier\n",
        "xgb_clf = xgb.XGBClassifier(\n",
        "    n_estimators=200, learning_rate=0.1, max_depth=3, random_state=42, use_label_encoder=False, eval_metric='logloss'\n",
        ")\n",
        "xgb_clf.fit(X_train_scaled, y_train)"
      ],
      "metadata": {
        "_uuid": "5356fb34-7468-43c7-b69e-3090cfd200cc",
        "_cell_guid": "e91fd762-d6e1-4567-a385-3e3d67704a40",
        "trusted": true,
        "execution": {
          "iopub.status.busy": "2025-08-25T10:35:29.31151Z",
          "iopub.execute_input": "2025-08-25T10:35:29.311916Z",
          "iopub.status.idle": "2025-08-25T10:35:29.61149Z",
          "shell.execute_reply.started": "2025-08-25T10:35:29.311887Z",
          "shell.execute_reply": "2025-08-25T10:35:29.610748Z"
        },
        "jupyter": {
          "outputs_hidden": false
        },
        "id": "BIY102clK9S5"
      },
      "outputs": [],
      "execution_count": null
    },
    {
      "cell_type": "code",
      "source": [
        "# 8. Predictions\n",
        "y_pred = xgb_clf.predict(X_test_scaled)\n",
        "y_proba = xgb_clf.predict_proba(X_test_scaled)[:,1]"
      ],
      "metadata": {
        "_uuid": "8dd7dab3-4c8c-468b-96bc-c8c9f26801d8",
        "_cell_guid": "025b488d-65e4-4e6a-afe2-219ed734ed3a",
        "trusted": true,
        "execution": {
          "iopub.status.busy": "2025-08-25T10:35:29.61208Z",
          "iopub.execute_input": "2025-08-25T10:35:29.612308Z",
          "iopub.status.idle": "2025-08-25T10:35:29.643425Z",
          "shell.execute_reply.started": "2025-08-25T10:35:29.612288Z",
          "shell.execute_reply": "2025-08-25T10:35:29.642462Z"
        },
        "jupyter": {
          "outputs_hidden": false
        },
        "id": "5883PAB3K9S5"
      },
      "outputs": [],
      "execution_count": null
    },
    {
      "cell_type": "code",
      "source": [
        "# 9. Evaluation\n",
        "accuracy = accuracy_score(y_test, y_pred)\n",
        "print(\"Accuracy:\", accuracy)\n",
        "print(\"\\nClassification Report:\\n\", classification_report(y_test, y_pred))"
      ],
      "metadata": {
        "_uuid": "8c2205cc-eb3e-4d51-b731-a5cbcbfa3064",
        "_cell_guid": "1bc24c8c-3d48-4eac-87c7-90aea39ede6a",
        "trusted": true,
        "execution": {
          "iopub.status.busy": "2025-08-25T10:35:29.645492Z",
          "iopub.execute_input": "2025-08-25T10:35:29.648182Z",
          "iopub.status.idle": "2025-08-25T10:35:29.667854Z",
          "shell.execute_reply.started": "2025-08-25T10:35:29.648151Z",
          "shell.execute_reply": "2025-08-25T10:35:29.66661Z"
        },
        "jupyter": {
          "outputs_hidden": false
        },
        "id": "ba5DUKtCK9S6"
      },
      "outputs": [],
      "execution_count": null
    },
    {
      "cell_type": "code",
      "source": [
        "# Confusion Matrix\n",
        "cm = confusion_matrix(y_test, y_pred)\n",
        "plt.figure(figsize=(6,5))\n",
        "sns.heatmap(cm, annot=True, fmt=\"d\", cmap=\"Blues\", xticklabels=[\"Died\",\"Survived\"], yticklabels=[\"Died\",\"Survived\"])\n",
        "plt.xlabel(\"Predicted\")\n",
        "plt.ylabel(\"Actual\")\n",
        "plt.title(\"XGBoost Classifier Confusion Matrix\")\n",
        "plt.show()"
      ],
      "metadata": {
        "_uuid": "5d554552-9d01-4011-8b7a-6835aa033fe6",
        "_cell_guid": "980a2fe1-1646-41cc-9f44-7c06bc85f90e",
        "trusted": true,
        "execution": {
          "iopub.status.busy": "2025-08-25T10:35:29.66922Z",
          "iopub.execute_input": "2025-08-25T10:35:29.669711Z",
          "iopub.status.idle": "2025-08-25T10:35:30.062719Z",
          "shell.execute_reply.started": "2025-08-25T10:35:29.669669Z",
          "shell.execute_reply": "2025-08-25T10:35:30.061601Z"
        },
        "jupyter": {
          "outputs_hidden": false
        },
        "id": "ZikcMmOOK9S6"
      },
      "outputs": [],
      "execution_count": null
    },
    {
      "cell_type": "code",
      "source": [
        "# ROC Curve\n",
        "fpr, tpr, thresholds = roc_curve(y_test, y_proba)\n",
        "auc = roc_auc_score(y_test, y_proba)\n",
        "plt.figure(figsize=(8,6))\n",
        "plt.plot(fpr, tpr, label=f\"ROC curve (AUC = {auc:.2f})\")\n",
        "plt.plot([0,1],[0,1],'r--')\n",
        "plt.xlabel(\"False Positive Rate\")\n",
        "plt.ylabel(\"True Positive Rate\")\n",
        "plt.title(\"XGBoost Classifier ROC Curve\")\n",
        "plt.legend()\n",
        "plt.show()"
      ],
      "metadata": {
        "_uuid": "14718777-2af0-44cc-846b-68986d5dd701",
        "_cell_guid": "07ea9967-1e02-49da-bcac-f167bc8c8cc2",
        "trusted": true,
        "execution": {
          "iopub.status.busy": "2025-08-25T10:35:30.063931Z",
          "iopub.execute_input": "2025-08-25T10:35:30.06424Z",
          "iopub.status.idle": "2025-08-25T10:35:30.300287Z",
          "shell.execute_reply.started": "2025-08-25T10:35:30.064217Z",
          "shell.execute_reply": "2025-08-25T10:35:30.298999Z"
        },
        "jupyter": {
          "outputs_hidden": false
        },
        "id": "24vsHHx_K9S6"
      },
      "outputs": [],
      "execution_count": null
    },
    {
      "cell_type": "code",
      "source": [
        "# Feature Importance\n",
        "feat_imp = pd.DataFrame({\n",
        "    'Feature': X.columns,\n",
        "    'Importance': xgb_clf.feature_importances_\n",
        "}).sort_values(by='Importance', ascending=False)\n",
        "\n",
        "plt.figure(figsize=(10,6))\n",
        "sns.barplot(x='Importance', y='Feature', data=feat_imp.head(10))\n",
        "plt.title(\"Top 10 Feature Importances\")\n",
        "plt.show()"
      ],
      "metadata": {
        "_uuid": "5504a9ff-f2de-42f5-b9ff-3facaaf582a8",
        "_cell_guid": "dc7035fe-68bd-4b46-8d48-1460cece745a",
        "trusted": true,
        "execution": {
          "iopub.status.busy": "2025-08-25T10:35:30.301395Z",
          "iopub.execute_input": "2025-08-25T10:35:30.301756Z",
          "iopub.status.idle": "2025-08-25T10:35:30.558765Z",
          "shell.execute_reply.started": "2025-08-25T10:35:30.301727Z",
          "shell.execute_reply": "2025-08-25T10:35:30.557428Z"
        },
        "jupyter": {
          "outputs_hidden": false
        },
        "id": "OCQ5Do0oK9S6"
      },
      "outputs": [],
      "execution_count": null
    }
  ]
}
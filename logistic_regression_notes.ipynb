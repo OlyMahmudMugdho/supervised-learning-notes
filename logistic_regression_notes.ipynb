{
  "metadata": {
    "kernelspec": {
      "language": "python",
      "display_name": "Python 3",
      "name": "python3"
    },
    "language_info": {
      "name": "python",
      "version": "3.11.13",
      "mimetype": "text/x-python",
      "codemirror_mode": {
        "name": "ipython",
        "version": 3
      },
      "pygments_lexer": "ipython3",
      "nbconvert_exporter": "python",
      "file_extension": ".py"
    },
    "kaggle": {
      "accelerator": "none",
      "dataSources": [
        {
          "sourceId": 2965537,
          "sourceType": "datasetVersion",
          "datasetId": 1818188
        }
      ],
      "dockerImageVersionId": 31089,
      "isInternetEnabled": true,
      "language": "python",
      "sourceType": "notebook",
      "isGpuEnabled": false
    },
    "colab": {
      "name": "logistic-regression-notes",
      "provenance": [],
      "include_colab_link": true
    }
  },
  "nbformat_minor": 0,
  "nbformat": 4,
  "cells": [
    {
      "cell_type": "markdown",
      "metadata": {
        "id": "view-in-github",
        "colab_type": "text"
      },
      "source": [
        "<a href=\"https://colab.research.google.com/github/OlyMahmudMugdho/supervised-learning-notes/blob/main/logistic_regression_notes.ipynb\" target=\"_parent\"><img src=\"https://colab.research.google.com/assets/colab-badge.svg\" alt=\"Open In Colab\"/></a>"
      ]
    },
    {
      "source": [
        "# IMPORTANT: RUN THIS CELL IN ORDER TO IMPORT YOUR KAGGLE DATA SOURCES,\n",
        "# THEN FEEL FREE TO DELETE THIS CELL.\n",
        "# NOTE: THIS NOTEBOOK ENVIRONMENT DIFFERS FROM KAGGLE'S PYTHON\n",
        "# ENVIRONMENT SO THERE MAY BE MISSING LIBRARIES USED BY YOUR\n",
        "# NOTEBOOK.\n",
        "import kagglehub\n",
        "yasserh_titanic_dataset_path = kagglehub.dataset_download('yasserh/titanic-dataset')\n",
        "\n",
        "print('Data source import complete.')\n"
      ],
      "metadata": {
        "id": "qsSEd4OIFRcd"
      },
      "cell_type": "code",
      "outputs": [],
      "execution_count": null
    },
    {
      "cell_type": "code",
      "source": [
        "# 1. Import Libraries\n",
        "import pandas as pd\n",
        "import numpy as np\n",
        "import matplotlib.pyplot as plt\n",
        "import seaborn as sns\n",
        "from sklearn.model_selection import train_test_split\n",
        "from sklearn.preprocessing import StandardScaler\n",
        "from sklearn.linear_model import LogisticRegression\n",
        "from sklearn.metrics import accuracy_score, confusion_matrix, classification_report, roc_curve, roc_auc_score"
      ],
      "metadata": {
        "_uuid": "bfa2e7c2-d402-4269-b7e4-c6b8a48eb2ea",
        "_cell_guid": "dfd286aa-a71d-44c7-88f3-ed49db19b15c",
        "trusted": true,
        "execution": {
          "iopub.status.busy": "2025-08-25T07:35:20.759662Z",
          "iopub.execute_input": "2025-08-25T07:35:20.759989Z",
          "iopub.status.idle": "2025-08-25T07:35:20.767198Z",
          "shell.execute_reply.started": "2025-08-25T07:35:20.759967Z",
          "shell.execute_reply": "2025-08-25T07:35:20.765629Z"
        },
        "jupyter": {
          "outputs_hidden": false
        },
        "id": "FFPxK8uKFRcg"
      },
      "outputs": [],
      "execution_count": null
    },
    {
      "cell_type": "code",
      "source": [
        "# 2. Load Dataset\n",
        "df = pd.read_csv(\"/kaggle/input/titanic-dataset/Titanic-Dataset.csv\")\n",
        "df.head(1)"
      ],
      "metadata": {
        "_uuid": "a8738988-070e-4791-a18a-84b831706634",
        "_cell_guid": "d9142b31-9bfd-4d4a-8782-8f1d74bda919",
        "trusted": true,
        "execution": {
          "iopub.status.busy": "2025-08-25T07:36:06.567176Z",
          "iopub.execute_input": "2025-08-25T07:36:06.567478Z",
          "iopub.status.idle": "2025-08-25T07:36:06.587839Z",
          "shell.execute_reply.started": "2025-08-25T07:36:06.567458Z",
          "shell.execute_reply": "2025-08-25T07:36:06.585991Z"
        },
        "jupyter": {
          "outputs_hidden": false
        },
        "id": "RaTQR-LKFRcg"
      },
      "outputs": [],
      "execution_count": null
    },
    {
      "cell_type": "code",
      "source": [
        "# 3. Data Preprocessing\n",
        "\n",
        "# Strip any whitespace from column names\n",
        "df.columns = df.columns.str.strip()\n",
        "\n",
        "# Fill missing Age values\n",
        "df['Age'] = df['Age'].fillna(df['Age'].median())\n",
        "\n",
        "# Fill missing Embarked values if the column exists\n",
        "if 'Embarked' in df.columns:\n",
        "    df['Embarked'] = df['Embarked'].fillna(df['Embarked'].mode()[0])\n",
        "\n",
        "# Drop unnecessary columns if they exist\n",
        "cols_to_drop = [col for col in ['Name', 'Ticket', 'Cabin'] if col in df.columns]\n",
        "df.drop(columns=cols_to_drop, inplace=True)\n",
        "\n",
        "# One-hot encode categorical variables\n",
        "df = pd.get_dummies(df, drop_first=True)"
      ],
      "metadata": {
        "_uuid": "01921efd-38b5-4d07-9c11-09ed9372740c",
        "_cell_guid": "84cfd0f7-5e4f-409a-b97c-818fffef4807",
        "trusted": true,
        "execution": {
          "iopub.status.busy": "2025-08-25T07:36:52.488861Z",
          "iopub.execute_input": "2025-08-25T07:36:52.489186Z",
          "iopub.status.idle": "2025-08-25T07:36:52.506532Z",
          "shell.execute_reply.started": "2025-08-25T07:36:52.489161Z",
          "shell.execute_reply": "2025-08-25T07:36:52.505369Z"
        },
        "jupyter": {
          "outputs_hidden": false
        },
        "id": "fUn9_VS0FRcg"
      },
      "outputs": [],
      "execution_count": null
    },
    {
      "cell_type": "code",
      "source": [
        "\n",
        "# 4. Define Features and Target\n",
        "X = df.drop('Survived', axis=1)\n",
        "y = df['Survived']"
      ],
      "metadata": {
        "_uuid": "31ed9284-382a-4f92-98e0-360605d2c7f7",
        "_cell_guid": "b8464ee4-facd-4af1-9209-46e648299986",
        "trusted": true,
        "execution": {
          "iopub.status.busy": "2025-08-25T07:37:00.598609Z",
          "iopub.execute_input": "2025-08-25T07:37:00.599408Z",
          "iopub.status.idle": "2025-08-25T07:37:00.606533Z",
          "shell.execute_reply.started": "2025-08-25T07:37:00.599377Z",
          "shell.execute_reply": "2025-08-25T07:37:00.605275Z"
        },
        "jupyter": {
          "outputs_hidden": false
        },
        "id": "ZSyaObyIFRch"
      },
      "outputs": [],
      "execution_count": null
    },
    {
      "cell_type": "code",
      "source": [
        "# 5. Split Data\n",
        "X_train, X_test, y_train, y_test = train_test_split(X, y, test_size=0.2, random_state=42)"
      ],
      "metadata": {
        "_uuid": "3e16afc3-3faf-4b38-bfa0-77eb6dc1fb14",
        "_cell_guid": "854fd3eb-830f-41c1-8ba6-5d30aabdf3fd",
        "trusted": true,
        "execution": {
          "iopub.status.busy": "2025-08-25T07:37:07.532906Z",
          "iopub.execute_input": "2025-08-25T07:37:07.534179Z",
          "iopub.status.idle": "2025-08-25T07:37:07.54323Z",
          "shell.execute_reply.started": "2025-08-25T07:37:07.534137Z",
          "shell.execute_reply": "2025-08-25T07:37:07.542096Z"
        },
        "jupyter": {
          "outputs_hidden": false
        },
        "id": "M3SmMCUKFRch"
      },
      "outputs": [],
      "execution_count": null
    },
    {
      "cell_type": "code",
      "source": [
        "# 6. Feature Scaling\n",
        "scaler = StandardScaler()\n",
        "X_train_scaled = scaler.fit_transform(X_train)\n",
        "X_test_scaled = scaler.transform(X_test)"
      ],
      "metadata": {
        "_uuid": "970b7f97-684b-478a-8610-78daa197f9aa",
        "_cell_guid": "83eac3a4-4b47-4ce0-a5d9-604bf867d195",
        "trusted": true,
        "execution": {
          "iopub.status.busy": "2025-08-25T07:37:12.509017Z",
          "iopub.execute_input": "2025-08-25T07:37:12.50934Z",
          "iopub.status.idle": "2025-08-25T07:37:12.521482Z",
          "shell.execute_reply.started": "2025-08-25T07:37:12.509317Z",
          "shell.execute_reply": "2025-08-25T07:37:12.520638Z"
        },
        "jupyter": {
          "outputs_hidden": false
        },
        "id": "ZTh4ALtMFRci"
      },
      "outputs": [],
      "execution_count": null
    },
    {
      "cell_type": "code",
      "source": [
        "# 7. Logistic Regression Model\n",
        "model = LogisticRegression(max_iter=1000)\n",
        "model.fit(X_train_scaled, y_train)"
      ],
      "metadata": {
        "_uuid": "a60c6816-1ea6-45f9-8b8f-f077b6a88d22",
        "_cell_guid": "8a863e2f-f29c-43ad-9cfc-40792d4b5686",
        "trusted": true,
        "execution": {
          "iopub.status.busy": "2025-08-25T07:37:19.013965Z",
          "iopub.execute_input": "2025-08-25T07:37:19.014307Z",
          "iopub.status.idle": "2025-08-25T07:37:19.07967Z",
          "shell.execute_reply.started": "2025-08-25T07:37:19.014284Z",
          "shell.execute_reply": "2025-08-25T07:37:19.078097Z"
        },
        "jupyter": {
          "outputs_hidden": false
        },
        "id": "HIjVhMELFRci"
      },
      "outputs": [],
      "execution_count": null
    },
    {
      "cell_type": "code",
      "source": [
        "# 8. Predictions\n",
        "y_pred = model.predict(X_test_scaled)\n",
        "y_proba = model.predict_proba(X_test_scaled)[:, 1]"
      ],
      "metadata": {
        "_uuid": "500ac87b-519e-4f1a-8e14-eef3843c0954",
        "_cell_guid": "512de906-4799-4493-b9be-01495c0b702d",
        "trusted": true,
        "execution": {
          "iopub.status.busy": "2025-08-25T07:37:26.047812Z",
          "iopub.execute_input": "2025-08-25T07:37:26.048302Z",
          "iopub.status.idle": "2025-08-25T07:37:26.054006Z",
          "shell.execute_reply.started": "2025-08-25T07:37:26.048276Z",
          "shell.execute_reply": "2025-08-25T07:37:26.053003Z"
        },
        "jupyter": {
          "outputs_hidden": false
        },
        "id": "QrWQ6Z_YFRci"
      },
      "outputs": [],
      "execution_count": null
    },
    {
      "cell_type": "code",
      "source": [
        "# 9. Evaluation Metrics\n",
        "print(\"Accuracy:\", accuracy_score(y_test, y_pred))\n",
        "print(\"\\nClassification Report:\\n\", classification_report(y_test, y_pred))"
      ],
      "metadata": {
        "_uuid": "21611c15-45ba-4c8b-9eb6-24a207c531f3",
        "_cell_guid": "7c2e4bfc-68f8-493b-a433-f1eec03e04a3",
        "trusted": true,
        "execution": {
          "iopub.status.busy": "2025-08-25T07:37:32.008992Z",
          "iopub.execute_input": "2025-08-25T07:37:32.009323Z",
          "iopub.status.idle": "2025-08-25T07:37:32.024653Z",
          "shell.execute_reply.started": "2025-08-25T07:37:32.009303Z",
          "shell.execute_reply": "2025-08-25T07:37:32.023639Z"
        },
        "jupyter": {
          "outputs_hidden": false
        },
        "id": "-Kr_W2MbFRcj"
      },
      "outputs": [],
      "execution_count": null
    },
    {
      "cell_type": "code",
      "source": [
        "# Confusion Matrix\n",
        "cm = confusion_matrix(y_test, y_pred)\n",
        "plt.figure(figsize=(6,5))\n",
        "sns.heatmap(cm, annot=True, fmt=\"d\", cmap=\"Blues\", xticklabels=[\"Died\", \"Survived\"], yticklabels=[\"Died\", \"Survived\"])\n",
        "plt.xlabel(\"Predicted\")\n",
        "plt.ylabel(\"Actual\")\n",
        "plt.title(\"Confusion Matrix\")\n",
        "plt.show()"
      ],
      "metadata": {
        "_uuid": "cbb9e2e1-08de-480c-9aee-c8d4c006e3cb",
        "_cell_guid": "40a07384-bf08-4ed1-9b16-ccfab2fca1ae",
        "trusted": true,
        "execution": {
          "iopub.status.busy": "2025-08-25T07:37:37.714063Z",
          "iopub.execute_input": "2025-08-25T07:37:37.714363Z",
          "iopub.status.idle": "2025-08-25T07:37:38.045186Z",
          "shell.execute_reply.started": "2025-08-25T07:37:37.714345Z",
          "shell.execute_reply": "2025-08-25T07:37:38.044173Z"
        },
        "jupyter": {
          "outputs_hidden": false
        },
        "id": "bK0j1zegFRcj"
      },
      "outputs": [],
      "execution_count": null
    },
    {
      "cell_type": "code",
      "source": [
        "# ROC Curve\n",
        "fpr, tpr, thresholds = roc_curve(y_test, y_proba)\n",
        "auc = roc_auc_score(y_test, y_proba)\n",
        "plt.figure(figsize=(8,6))\n",
        "plt.plot(fpr, tpr, label=f\"ROC curve (AUC = {auc:.2f})\")\n",
        "plt.plot([0,1], [0,1], color='red', linestyle='--')\n",
        "plt.xlabel(\"False Positive Rate\")\n",
        "plt.ylabel(\"True Positive Rate\")\n",
        "plt.title(\"ROC Curve\")\n",
        "plt.legend()\n",
        "plt.show()"
      ],
      "metadata": {
        "_uuid": "104cb039-1a59-4459-a031-6b43548dc734",
        "_cell_guid": "7e9ae6ad-3c9a-48f2-a3d4-0c001f2886ff",
        "trusted": true,
        "execution": {
          "iopub.status.busy": "2025-08-25T07:37:51.595236Z",
          "iopub.execute_input": "2025-08-25T07:37:51.595568Z",
          "iopub.status.idle": "2025-08-25T07:37:51.802327Z",
          "shell.execute_reply.started": "2025-08-25T07:37:51.595543Z",
          "shell.execute_reply": "2025-08-25T07:37:51.800708Z"
        },
        "jupyter": {
          "outputs_hidden": false
        },
        "id": "GJ_0RDKkFRck"
      },
      "outputs": [],
      "execution_count": null
    },
    {
      "cell_type": "code",
      "source": [
        "# 10. Feature Importance\n",
        "coef_df = pd.DataFrame({\n",
        "    \"Feature\": X.columns,\n",
        "    \"Coefficient\": model.coef_[0]\n",
        "}).sort_values(by=\"Coefficient\", key=abs, ascending=False)\n",
        "\n",
        "print(\"\\nTop Features by Absolute Coefficient:\\n\", coef_df.head(10))"
      ],
      "metadata": {
        "_uuid": "c4be00fb-1b9d-457e-85cb-40b49efcaf67",
        "_cell_guid": "9447e4b4-3b08-480e-9617-a21f5e535004",
        "trusted": true,
        "execution": {
          "iopub.status.busy": "2025-08-25T07:38:06.606311Z",
          "iopub.execute_input": "2025-08-25T07:38:06.606625Z",
          "iopub.status.idle": "2025-08-25T07:38:06.616293Z",
          "shell.execute_reply.started": "2025-08-25T07:38:06.606602Z",
          "shell.execute_reply": "2025-08-25T07:38:06.615118Z"
        },
        "jupyter": {
          "outputs_hidden": false
        },
        "id": "0tONvErFFRck"
      },
      "outputs": [],
      "execution_count": null
    },
    {
      "cell_type": "code",
      "source": [],
      "metadata": {
        "_uuid": "8b86f028-b1b6-41da-a1e2-eeb4f84fa090",
        "_cell_guid": "0c6d4c5b-13ea-419c-af20-6f01410a5480",
        "trusted": true,
        "jupyter": {
          "outputs_hidden": false
        },
        "id": "P8sTJMbmFRck"
      },
      "outputs": [],
      "execution_count": null
    }
  ]
}
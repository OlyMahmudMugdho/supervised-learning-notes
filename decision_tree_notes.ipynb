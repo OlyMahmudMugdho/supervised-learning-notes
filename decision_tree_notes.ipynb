{
  "metadata": {
    "kernelspec": {
      "language": "python",
      "display_name": "Python 3",
      "name": "python3"
    },
    "language_info": {
      "name": "python",
      "version": "3.11.13",
      "mimetype": "text/x-python",
      "codemirror_mode": {
        "name": "ipython",
        "version": 3
      },
      "pygments_lexer": "ipython3",
      "nbconvert_exporter": "python",
      "file_extension": ".py"
    },
    "kaggle": {
      "accelerator": "none",
      "dataSources": [
        {
          "sourceId": 2965537,
          "sourceType": "datasetVersion",
          "datasetId": 1818188
        }
      ],
      "dockerImageVersionId": 31089,
      "isInternetEnabled": true,
      "language": "python",
      "sourceType": "notebook",
      "isGpuEnabled": false
    },
    "colab": {
      "name": "decision-tree-notes",
      "provenance": [],
      "include_colab_link": true
    }
  },
  "nbformat_minor": 0,
  "nbformat": 4,
  "cells": [
    {
      "cell_type": "markdown",
      "metadata": {
        "id": "view-in-github",
        "colab_type": "text"
      },
      "source": [
        "<a href=\"https://colab.research.google.com/github/OlyMahmudMugdho/supervised-learning-notes/blob/main/decision_tree_notes.ipynb\" target=\"_parent\"><img src=\"https://colab.research.google.com/assets/colab-badge.svg\" alt=\"Open In Colab\"/></a>"
      ]
    },
    {
      "source": [
        "# IMPORTANT: RUN THIS CELL IN ORDER TO IMPORT YOUR KAGGLE DATA SOURCES,\n",
        "# THEN FEEL FREE TO DELETE THIS CELL.\n",
        "# NOTE: THIS NOTEBOOK ENVIRONMENT DIFFERS FROM KAGGLE'S PYTHON\n",
        "# ENVIRONMENT SO THERE MAY BE MISSING LIBRARIES USED BY YOUR\n",
        "# NOTEBOOK.\n",
        "import kagglehub\n",
        "yasserh_titanic_dataset_path = kagglehub.dataset_download('yasserh/titanic-dataset')\n",
        "\n",
        "print('Data source import complete.')\n"
      ],
      "metadata": {
        "id": "5przqw5_KC15"
      },
      "cell_type": "code",
      "outputs": [],
      "execution_count": null
    },
    {
      "cell_type": "code",
      "source": [
        "# 1. Imports\n",
        "import pandas as pd\n",
        "import numpy as np\n",
        "import matplotlib.pyplot as plt\n",
        "import seaborn as sns\n",
        "\n",
        "from sklearn.model_selection import train_test_split\n",
        "from sklearn.preprocessing import StandardScaler\n",
        "from sklearn.tree import DecisionTreeClassifier, plot_tree\n",
        "from sklearn.metrics import accuracy_score, confusion_matrix, classification_report, roc_curve, roc_auc_score"
      ],
      "metadata": {
        "_uuid": "61dea9e6-0605-423a-916e-66d0dfabcc96",
        "_cell_guid": "0e743fae-3505-4929-b300-8702a1e17e0f",
        "trusted": true,
        "execution": {
          "iopub.status.busy": "2025-08-25T07:46:27.785739Z",
          "iopub.execute_input": "2025-08-25T07:46:27.786076Z",
          "iopub.status.idle": "2025-08-25T07:46:27.791769Z",
          "shell.execute_reply.started": "2025-08-25T07:46:27.786052Z",
          "shell.execute_reply": "2025-08-25T07:46:27.790706Z"
        },
        "jupyter": {
          "outputs_hidden": false
        },
        "id": "yHz1MKowKC18"
      },
      "outputs": [],
      "execution_count": null
    },
    {
      "cell_type": "code",
      "source": [
        "# 2. Load Dataset\n",
        "df = pd.read_csv(\"/kaggle/input/titanic-dataset/Titanic-Dataset.csv\")"
      ],
      "metadata": {
        "_uuid": "6ee4a256-7299-4c2c-b56d-8820df79bbe7",
        "_cell_guid": "4a398761-7476-46d7-bbf1-7fee8aa72300",
        "trusted": true,
        "execution": {
          "iopub.status.busy": "2025-08-25T07:46:27.793769Z",
          "iopub.execute_input": "2025-08-25T07:46:27.794541Z",
          "iopub.status.idle": "2025-08-25T07:46:27.83236Z",
          "shell.execute_reply.started": "2025-08-25T07:46:27.794515Z",
          "shell.execute_reply": "2025-08-25T07:46:27.830961Z"
        },
        "jupyter": {
          "outputs_hidden": false
        },
        "id": "PQSePlXqKC18"
      },
      "outputs": [],
      "execution_count": null
    },
    {
      "cell_type": "code",
      "source": [
        "# 3. Data Preprocessing\n",
        "df.columns = df.columns.str.strip()  # remove whitespace\n",
        "df['Age'] = df['Age'].fillna(df['Age'].median())\n",
        "if 'Embarked' in df.columns:\n",
        "    df['Embarked'] = df['Embarked'].fillna(df['Embarked'].mode()[0])\n",
        "\n",
        "# Drop unnecessary columns\n",
        "cols_to_drop = [col for col in ['Name', 'Ticket', 'Cabin'] if col in df.columns]\n",
        "df.drop(columns=cols_to_drop, inplace=True)\n",
        "\n",
        "# One-hot encode categorical variables\n",
        "df = pd.get_dummies(df, drop_first=True)"
      ],
      "metadata": {
        "_uuid": "7760d0e2-4478-498c-b23d-d0c569cfc7d1",
        "_cell_guid": "e6cd141d-c562-4782-a586-ca6f1024081b",
        "trusted": true,
        "execution": {
          "iopub.status.busy": "2025-08-25T07:46:27.833837Z",
          "iopub.execute_input": "2025-08-25T07:46:27.834146Z",
          "iopub.status.idle": "2025-08-25T07:46:27.850726Z",
          "shell.execute_reply.started": "2025-08-25T07:46:27.834119Z",
          "shell.execute_reply": "2025-08-25T07:46:27.849662Z"
        },
        "jupyter": {
          "outputs_hidden": false
        },
        "id": "aYDA25pjKC19"
      },
      "outputs": [],
      "execution_count": null
    },
    {
      "cell_type": "code",
      "source": [
        "# 4. Define features and target\n",
        "X = df.drop('Survived', axis=1)\n",
        "y = df['Survived']"
      ],
      "metadata": {
        "_uuid": "83cfa31b-96c6-41f6-ab2d-654c665ae31d",
        "_cell_guid": "fa01539c-299c-49ef-9495-799d681164e9",
        "trusted": true,
        "execution": {
          "iopub.status.busy": "2025-08-25T07:46:27.852207Z",
          "iopub.execute_input": "2025-08-25T07:46:27.852546Z",
          "iopub.status.idle": "2025-08-25T07:46:27.861947Z",
          "shell.execute_reply.started": "2025-08-25T07:46:27.852524Z",
          "shell.execute_reply": "2025-08-25T07:46:27.860746Z"
        },
        "jupyter": {
          "outputs_hidden": false
        },
        "id": "QZql8E89KC19"
      },
      "outputs": [],
      "execution_count": null
    },
    {
      "cell_type": "code",
      "source": [
        "# 5. Train-test split\n",
        "X_train, X_test, y_train, y_test = train_test_split(\n",
        "    X, y, test_size=0.2, random_state=42\n",
        ")"
      ],
      "metadata": {
        "_uuid": "744b046a-ad63-427b-8f59-5bc7811d9f70",
        "_cell_guid": "e69e6d81-0c3c-4303-aefb-c8f33617f469",
        "trusted": true,
        "execution": {
          "iopub.status.busy": "2025-08-25T07:46:27.864791Z",
          "iopub.execute_input": "2025-08-25T07:46:27.865128Z",
          "iopub.status.idle": "2025-08-25T07:46:27.890571Z",
          "shell.execute_reply.started": "2025-08-25T07:46:27.865099Z",
          "shell.execute_reply": "2025-08-25T07:46:27.889509Z"
        },
        "jupyter": {
          "outputs_hidden": false
        },
        "id": "t7Na3nmVKC19"
      },
      "outputs": [],
      "execution_count": null
    },
    {
      "cell_type": "code",
      "source": [
        "# 6. Train Decision Tree\n",
        "dtree = DecisionTreeClassifier(max_depth=5, random_state=42)\n",
        "dtree.fit(X_train, y_train)"
      ],
      "metadata": {
        "_uuid": "5c2f48eb-20dc-448f-96e3-d3c96a13ddc5",
        "_cell_guid": "b45bed42-c250-40f1-a6b7-e9290a0c2288",
        "trusted": true,
        "execution": {
          "iopub.status.busy": "2025-08-25T07:46:27.891431Z",
          "iopub.execute_input": "2025-08-25T07:46:27.8918Z",
          "iopub.status.idle": "2025-08-25T07:46:27.922455Z",
          "shell.execute_reply.started": "2025-08-25T07:46:27.89177Z",
          "shell.execute_reply": "2025-08-25T07:46:27.921001Z"
        },
        "jupyter": {
          "outputs_hidden": false
        },
        "id": "PuDnLy-LKC1-"
      },
      "outputs": [],
      "execution_count": null
    },
    {
      "cell_type": "code",
      "source": [
        "# 7. Predictions\n",
        "y_pred = dtree.predict(X_test)\n",
        "y_proba = dtree.predict_proba(X_test)[:,1]"
      ],
      "metadata": {
        "_uuid": "4657be3d-69a3-42ae-9bfb-18895a8b8a1a",
        "_cell_guid": "e48139fb-762c-4247-8190-d9e18c8e4c15",
        "trusted": true,
        "execution": {
          "iopub.status.busy": "2025-08-25T07:46:27.923657Z",
          "iopub.execute_input": "2025-08-25T07:46:27.92394Z",
          "iopub.status.idle": "2025-08-25T07:46:27.944954Z",
          "shell.execute_reply.started": "2025-08-25T07:46:27.923913Z",
          "shell.execute_reply": "2025-08-25T07:46:27.943935Z"
        },
        "jupyter": {
          "outputs_hidden": false
        },
        "id": "oNGaf4HCKC1-"
      },
      "outputs": [],
      "execution_count": null
    },
    {
      "cell_type": "code",
      "source": [
        "# 8. Evaluation Metrics\n",
        "print(\"Accuracy:\", accuracy_score(y_test, y_pred))\n",
        "print(\"\\nClassification Report:\\n\", classification_report(y_test, y_pred))"
      ],
      "metadata": {
        "_uuid": "b02dbece-f5ad-4d48-9abb-2c57cd2240cb",
        "_cell_guid": "bfbd8b9e-a953-480a-a0c3-f750087d3ca4",
        "trusted": true,
        "execution": {
          "iopub.status.busy": "2025-08-25T07:46:27.945908Z",
          "iopub.execute_input": "2025-08-25T07:46:27.946268Z",
          "iopub.status.idle": "2025-08-25T07:46:27.978536Z",
          "shell.execute_reply.started": "2025-08-25T07:46:27.946239Z",
          "shell.execute_reply": "2025-08-25T07:46:27.977481Z"
        },
        "jupyter": {
          "outputs_hidden": false
        },
        "id": "ipe9ClO5KC1-"
      },
      "outputs": [],
      "execution_count": null
    },
    {
      "cell_type": "code",
      "source": [
        "# Confusion Matrix\n",
        "cm = confusion_matrix(y_test, y_pred)\n",
        "plt.figure(figsize=(6,5))\n",
        "sns.heatmap(cm, annot=True, fmt=\"d\", cmap=\"Blues\", xticklabels=[\"Died\", \"Survived\"], yticklabels=[\"Died\", \"Survived\"])\n",
        "plt.xlabel(\"Predicted\")\n",
        "plt.ylabel(\"Actual\")\n",
        "plt.title(\"Decision Tree Confusion Matrix\")\n",
        "plt.show()"
      ],
      "metadata": {
        "_uuid": "b29b084f-1b1b-4046-a959-fd0cc9cb3ed1",
        "_cell_guid": "67075060-ffde-4fa5-be32-dd4a4b1b2a58",
        "trusted": true,
        "execution": {
          "iopub.status.busy": "2025-08-25T07:46:27.979269Z",
          "iopub.execute_input": "2025-08-25T07:46:27.979637Z",
          "iopub.status.idle": "2025-08-25T07:46:28.218122Z",
          "shell.execute_reply.started": "2025-08-25T07:46:27.979576Z",
          "shell.execute_reply": "2025-08-25T07:46:28.2171Z"
        },
        "jupyter": {
          "outputs_hidden": false
        },
        "id": "KL_uhSYZKC1-"
      },
      "outputs": [],
      "execution_count": null
    },
    {
      "cell_type": "code",
      "source": [
        "# ROC Curve\n",
        "fpr, tpr, thresholds = roc_curve(y_test, y_proba)\n",
        "auc = roc_auc_score(y_test, y_proba)\n",
        "plt.figure(figsize=(8,6))\n",
        "plt.plot(fpr, tpr, label=f\"ROC curve (AUC = {auc:.2f})\")\n",
        "plt.plot([0,1], [0,1], color='red', linestyle='--')\n",
        "plt.xlabel(\"False Positive Rate\")\n",
        "plt.ylabel(\"True Positive Rate\")\n",
        "plt.title(\"Decision Tree ROC Curve\")\n",
        "plt.legend()\n",
        "plt.show()"
      ],
      "metadata": {
        "_uuid": "ef7217e1-9771-4c03-a4b7-83594e8a25cd",
        "_cell_guid": "52501728-5825-4a70-a5ff-d58ba0ea2e5a",
        "trusted": true,
        "execution": {
          "iopub.status.busy": "2025-08-25T07:46:28.219135Z",
          "iopub.execute_input": "2025-08-25T07:46:28.219435Z",
          "iopub.status.idle": "2025-08-25T07:46:28.441541Z",
          "shell.execute_reply.started": "2025-08-25T07:46:28.21941Z",
          "shell.execute_reply": "2025-08-25T07:46:28.44043Z"
        },
        "jupyter": {
          "outputs_hidden": false
        },
        "id": "rTaJd-3wKC1_"
      },
      "outputs": [],
      "execution_count": null
    },
    {
      "cell_type": "code",
      "source": [
        "# 9. Visualize the Tree\n",
        "plt.figure(figsize=(20,10))\n",
        "plot_tree(dtree, feature_names=X.columns, class_names=[\"Died\",\"Survived\"], filled=True, rounded=True)\n",
        "plt.show()"
      ],
      "metadata": {
        "_uuid": "28e53d96-abe1-409f-b06e-d6fd0a07fc9c",
        "_cell_guid": "6352669e-c1bf-41dd-8c1f-a2498f992ec1",
        "trusted": true,
        "execution": {
          "iopub.status.busy": "2025-08-25T07:46:28.443681Z",
          "iopub.execute_input": "2025-08-25T07:46:28.444018Z",
          "iopub.status.idle": "2025-08-25T07:46:30.292924Z",
          "shell.execute_reply.started": "2025-08-25T07:46:28.443987Z",
          "shell.execute_reply": "2025-08-25T07:46:30.291684Z"
        },
        "jupyter": {
          "outputs_hidden": false
        },
        "id": "FuU54VtJKC1_"
      },
      "outputs": [],
      "execution_count": null
    }
  ]
}
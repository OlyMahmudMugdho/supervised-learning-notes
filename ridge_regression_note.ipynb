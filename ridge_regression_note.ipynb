{
  "metadata": {
    "kernelspec": {
      "language": "python",
      "display_name": "Python 3",
      "name": "python3"
    },
    "language_info": {
      "name": "python",
      "version": "3.11.13",
      "mimetype": "text/x-python",
      "codemirror_mode": {
        "name": "ipython",
        "version": 3
      },
      "pygments_lexer": "ipython3",
      "nbconvert_exporter": "python",
      "file_extension": ".py"
    },
    "kaggle": {
      "accelerator": "none",
      "dataSources": [
        {
          "sourceId": 12859736,
          "sourceType": "datasetVersion",
          "datasetId": 8133938
        }
      ],
      "dockerImageVersionId": 31089,
      "isInternetEnabled": true,
      "language": "python",
      "sourceType": "notebook",
      "isGpuEnabled": false
    },
    "colab": {
      "name": "ridge-regression-note",
      "provenance": [],
      "include_colab_link": true
    }
  },
  "nbformat_minor": 0,
  "nbformat": 4,
  "cells": [
    {
      "cell_type": "markdown",
      "metadata": {
        "id": "view-in-github",
        "colab_type": "text"
      },
      "source": [
        "<a href=\"https://colab.research.google.com/github/OlyMahmudMugdho/supervised-learning-notes/blob/main/ridge_regression_note.ipynb\" target=\"_parent\"><img src=\"https://colab.research.google.com/assets/colab-badge.svg\" alt=\"Open In Colab\"/></a>"
      ]
    },
    {
      "source": [
        "# IMPORTANT: RUN THIS CELL IN ORDER TO IMPORT YOUR KAGGLE DATA SOURCES,\n",
        "# THEN FEEL FREE TO DELETE THIS CELL.\n",
        "# NOTE: THIS NOTEBOOK ENVIRONMENT DIFFERS FROM KAGGLE'S PYTHON\n",
        "# ENVIRONMENT SO THERE MAY BE MISSING LIBRARIES USED BY YOUR\n",
        "# NOTEBOOK.\n",
        "import kagglehub\n",
        "olymahmud_housing_prices_dataset_path = kagglehub.dataset_download('olymahmud/housing-prices-dataset')\n",
        "\n",
        "print('Data source import complete.')\n"
      ],
      "metadata": {
        "id": "jrKe5x08HcXc"
      },
      "cell_type": "code",
      "outputs": [],
      "execution_count": null
    },
    {
      "cell_type": "code",
      "source": [
        "# 1. Imports\n",
        "import pandas as pd\n",
        "import numpy as np\n",
        "import matplotlib.pyplot as plt\n",
        "import seaborn as sns\n",
        "\n",
        "from sklearn.model_selection import train_test_split, cross_val_score\n",
        "from sklearn.preprocessing import StandardScaler\n",
        "from sklearn.linear_model import Ridge, LinearRegression\n",
        "from sklearn.metrics import mean_squared_error, r2_score"
      ],
      "metadata": {
        "_uuid": "c7fb051b-0ace-41d5-8653-4fd7cee36e62",
        "_cell_guid": "d75c3620-fbc7-4455-9482-afc51fc89e43",
        "trusted": true,
        "execution": {
          "iopub.status.busy": "2025-08-25T06:45:36.946277Z",
          "iopub.execute_input": "2025-08-25T06:45:36.946693Z",
          "iopub.status.idle": "2025-08-25T06:45:36.952341Z",
          "shell.execute_reply.started": "2025-08-25T06:45:36.946664Z",
          "shell.execute_reply": "2025-08-25T06:45:36.951023Z"
        },
        "jupyter": {
          "outputs_hidden": false
        },
        "id": "bgEa4_AMHcXj"
      },
      "outputs": [],
      "execution_count": null
    },
    {
      "cell_type": "code",
      "source": [
        "# 2. Load Kaggle dataset\n",
        "df = pd.read_csv(\"/kaggle/input/housing-prices-dataset/housing_prices_dataset.csv\")"
      ],
      "metadata": {
        "_uuid": "f48639a5-5d81-4d9d-8903-4190aa2db262",
        "_cell_guid": "4773a5f4-f776-4fd3-991c-edbdfd76982f",
        "trusted": true,
        "execution": {
          "iopub.status.busy": "2025-08-25T06:45:36.95368Z",
          "iopub.execute_input": "2025-08-25T06:45:36.954097Z",
          "iopub.status.idle": "2025-08-25T06:45:36.989557Z",
          "shell.execute_reply.started": "2025-08-25T06:45:36.954072Z",
          "shell.execute_reply": "2025-08-25T06:45:36.988633Z"
        },
        "jupyter": {
          "outputs_hidden": false
        },
        "id": "Fx4gHRXcHcXl"
      },
      "outputs": [],
      "execution_count": null
    },
    {
      "cell_type": "code",
      "source": [
        "\n",
        "# 3. Quick data check\n",
        "print(df.shape)\n",
        "print(df.info())\n",
        "print(df.describe())\n",
        "df['price'] = df['price'].replace([np.inf, -np.inf], np.nan)"
      ],
      "metadata": {
        "_uuid": "c8ed9ca7-2a58-4610-98c8-d5d5374d914b",
        "_cell_guid": "6ab17bfd-641c-4e6e-a7f8-6ce2f1e456f2",
        "trusted": true,
        "execution": {
          "iopub.status.busy": "2025-08-25T06:45:36.990859Z",
          "iopub.execute_input": "2025-08-25T06:45:36.991625Z",
          "iopub.status.idle": "2025-08-25T06:45:37.023087Z",
          "shell.execute_reply.started": "2025-08-25T06:45:36.991597Z",
          "shell.execute_reply": "2025-08-25T06:45:37.021726Z"
        },
        "jupyter": {
          "outputs_hidden": false
        },
        "id": "1HE4fXt1HcXo"
      },
      "outputs": [],
      "execution_count": null
    },
    {
      "cell_type": "code",
      "source": [
        "# 4. Convert categorical variables to numeric for correlation heatmap\n",
        "df_numeric = df.copy()\n",
        "cat_cols = df.select_dtypes(include='object').columns\n",
        "for col in cat_cols:\n",
        "    df_numeric[col] = df_numeric[col].astype('category').cat.codes"
      ],
      "metadata": {
        "_uuid": "734dab53-641e-4152-b3f5-78ac1b34ae01",
        "_cell_guid": "d8958729-52c3-496c-b30d-3a5e688a2814",
        "trusted": true,
        "execution": {
          "iopub.status.busy": "2025-08-25T06:45:37.024024Z",
          "iopub.execute_input": "2025-08-25T06:45:37.024261Z",
          "iopub.status.idle": "2025-08-25T06:45:37.037224Z",
          "shell.execute_reply.started": "2025-08-25T06:45:37.024243Z",
          "shell.execute_reply": "2025-08-25T06:45:37.03609Z"
        },
        "jupyter": {
          "outputs_hidden": false
        },
        "id": "eaqKwQs8HcXp"
      },
      "outputs": [],
      "execution_count": null
    },
    {
      "cell_type": "code",
      "source": [
        "\n",
        "# 5. Visualization: Correlation Heatmap\n",
        "plt.figure(figsize=(12,8))\n",
        "sns.heatmap(df_numeric.corr(), annot=True, cmap=\"coolwarm\")\n",
        "plt.title(\"Correlation Heatmap (Numeric + Encoded Categorical)\")\n",
        "plt.show()"
      ],
      "metadata": {
        "_uuid": "cc0ae49a-ab65-4ea6-8c96-31ce1375071c",
        "_cell_guid": "d182c861-35fb-4d61-9b41-a1f9572c854d",
        "trusted": true,
        "execution": {
          "iopub.status.busy": "2025-08-25T06:45:37.039337Z",
          "iopub.execute_input": "2025-08-25T06:45:37.039596Z",
          "iopub.status.idle": "2025-08-25T06:45:37.750973Z",
          "shell.execute_reply.started": "2025-08-25T06:45:37.039578Z",
          "shell.execute_reply": "2025-08-25T06:45:37.749875Z"
        },
        "jupyter": {
          "outputs_hidden": false
        },
        "id": "YmBUEbMTHcXt"
      },
      "outputs": [],
      "execution_count": null
    },
    {
      "cell_type": "code",
      "source": [
        "# 6. Distribution of Target\n",
        "plt.figure(figsize=(8,5))\n",
        "sns.histplot(df['price'], bins=30, kde=True)\n",
        "plt.title(\"Distribution of House Prices\")\n",
        "plt.show()"
      ],
      "metadata": {
        "_uuid": "0737a694-7d5b-4d9f-8719-df0071e43384",
        "_cell_guid": "a789ae94-377b-42a0-bc69-34943d39a100",
        "trusted": true,
        "execution": {
          "iopub.status.busy": "2025-08-25T06:45:37.752065Z",
          "iopub.execute_input": "2025-08-25T06:45:37.752318Z",
          "iopub.status.idle": "2025-08-25T06:45:38.056787Z",
          "shell.execute_reply.started": "2025-08-25T06:45:37.752299Z",
          "shell.execute_reply": "2025-08-25T06:45:38.055893Z"
        },
        "jupyter": {
          "outputs_hidden": false
        },
        "id": "qY4e_9LAHcXu"
      },
      "outputs": [],
      "execution_count": null
    },
    {
      "cell_type": "code",
      "source": [
        "# 7. Feature preprocessing\n",
        "# Convert categorical variables to dummies for modeling\n",
        "df_model = pd.get_dummies(df, drop_first=True)\n",
        "\n",
        "# Split features and target\n",
        "X = df_model.drop(\"price\", axis=1)\n",
        "y = df_model[\"price\"]\n",
        "\n",
        "# Scale features\n",
        "scaler = StandardScaler()\n",
        "X_scaled = scaler.fit_transform(X)"
      ],
      "metadata": {
        "_uuid": "0a9d39ff-29b3-4fec-a41a-b1a18d285a46",
        "_cell_guid": "7438999f-1d5e-42dc-85b2-595a49f99318",
        "trusted": true,
        "execution": {
          "iopub.status.busy": "2025-08-25T06:45:38.057696Z",
          "iopub.execute_input": "2025-08-25T06:45:38.058004Z",
          "iopub.status.idle": "2025-08-25T06:45:38.079021Z",
          "shell.execute_reply.started": "2025-08-25T06:45:38.057975Z",
          "shell.execute_reply": "2025-08-25T06:45:38.077955Z"
        },
        "jupyter": {
          "outputs_hidden": false
        },
        "id": "tatniH0fHcXv"
      },
      "outputs": [],
      "execution_count": null
    },
    {
      "cell_type": "code",
      "source": [
        "# 8. Train-test split\n",
        "X_train, X_test, y_train, y_test = train_test_split(\n",
        "    X_scaled, y, test_size=0.2, random_state=42\n",
        ")"
      ],
      "metadata": {
        "_uuid": "db7be2c3-230b-414c-82e3-24805d5a77ee",
        "_cell_guid": "b23ac423-301d-4fc7-aeba-a1cdc195d20d",
        "trusted": true,
        "execution": {
          "iopub.status.busy": "2025-08-25T06:45:38.080228Z",
          "iopub.execute_input": "2025-08-25T06:45:38.080523Z",
          "iopub.status.idle": "2025-08-25T06:45:38.089009Z",
          "shell.execute_reply.started": "2025-08-25T06:45:38.080499Z",
          "shell.execute_reply": "2025-08-25T06:45:38.087518Z"
        },
        "jupyter": {
          "outputs_hidden": false
        },
        "id": "rdrkvquzHcX0"
      },
      "outputs": [],
      "execution_count": null
    },
    {
      "cell_type": "code",
      "source": [
        "# 9. Train Ridge Regression\n",
        "ridge = Ridge(alpha=10)  # alpha = regularization strength\n",
        "ridge.fit(X_train, y_train)\n",
        "\n",
        "# Predict\n",
        "y_pred = ridge.predict(X_test)"
      ],
      "metadata": {
        "_uuid": "987930f2-6898-45da-8ecf-2e865c3919c2",
        "_cell_guid": "ec9ea1b0-57b1-4e2d-bc69-0b204a9f59ce",
        "trusted": true,
        "execution": {
          "iopub.status.busy": "2025-08-25T06:45:38.090249Z",
          "iopub.execute_input": "2025-08-25T06:45:38.090603Z",
          "iopub.status.idle": "2025-08-25T06:45:38.115684Z",
          "shell.execute_reply.started": "2025-08-25T06:45:38.090573Z",
          "shell.execute_reply": "2025-08-25T06:45:38.114742Z"
        },
        "jupyter": {
          "outputs_hidden": false
        },
        "id": "LYvw-tF6HcX2"
      },
      "outputs": [],
      "execution_count": null
    },
    {
      "cell_type": "code",
      "source": [
        "# 10. Evaluation\n",
        "mse = mean_squared_error(y_test, y_pred)\n",
        "rmse = np.sqrt(mse)\n",
        "r2 = r2_score(y_test, y_pred)\n",
        "\n",
        "print(\"Ridge Regression Results:\")\n",
        "print(\"MSE:\", mse)\n",
        "print(\"RMSE:\", rmse)\n",
        "print(\"R² Score:\", r2)"
      ],
      "metadata": {
        "_uuid": "35056bc0-44c9-4f31-90c5-990b14bbd63e",
        "_cell_guid": "8b650ea7-a43b-41c1-99c9-9d7002725293",
        "trusted": true,
        "execution": {
          "iopub.status.busy": "2025-08-25T06:45:38.116339Z",
          "iopub.execute_input": "2025-08-25T06:45:38.116567Z",
          "iopub.status.idle": "2025-08-25T06:45:38.140225Z",
          "shell.execute_reply.started": "2025-08-25T06:45:38.116549Z",
          "shell.execute_reply": "2025-08-25T06:45:38.138884Z"
        },
        "jupyter": {
          "outputs_hidden": false
        },
        "id": "6idyybrNHcX5"
      },
      "outputs": [],
      "execution_count": null
    },
    {
      "cell_type": "code",
      "source": [
        "    # 11. Visualization: Predicted vs Actual\n",
        "    plt.figure(figsize=(8,6))\n",
        "    plt.scatter(y_test, y_pred, alpha=0.7, color=\"blue\")\n",
        "    plt.xlabel(\"Actual Prices\")\n",
        "    plt.ylabel(\"Predicted Prices\")\n",
        "    plt.title(\"Ridge Regression: Actual vs Predicted Prices\")\n",
        "    plt.plot([y.min(), y.max()], [y.min(), y.max()], color=\"red\", linestyle=\"--\")\n",
        "    plt.show()"
      ],
      "metadata": {
        "_uuid": "5959c08a-246a-4e76-a3dd-d1f453383b20",
        "_cell_guid": "2c0cab85-da91-4b17-a652-da031be93124",
        "trusted": true,
        "execution": {
          "iopub.status.busy": "2025-08-25T06:45:38.142675Z",
          "iopub.execute_input": "2025-08-25T06:45:38.143305Z",
          "iopub.status.idle": "2025-08-25T06:45:38.367086Z",
          "shell.execute_reply.started": "2025-08-25T06:45:38.143272Z",
          "shell.execute_reply": "2025-08-25T06:45:38.366099Z"
        },
        "jupyter": {
          "outputs_hidden": false
        },
        "id": "nVRzpoPdHcX6"
      },
      "outputs": [],
      "execution_count": null
    },
    {
      "cell_type": "code",
      "source": [
        "# 12. Effect of different alpha values\n",
        "alphas = [0.01, 0.1, 1, 10, 50, 100]\n",
        "r2_scores = []\n",
        "\n",
        "for a in alphas:\n",
        "    ridge_cv = Ridge(alpha=a)\n",
        "    ridge_cv.fit(X_train, y_train)\n",
        "    r2_scores.append(ridge_cv.score(X_test, y_test))\n",
        "\n",
        "plt.figure(figsize=(8,5))\n",
        "plt.plot(alphas, r2_scores, marker='o')\n",
        "plt.xscale('log')\n",
        "plt.xlabel(\"Alpha\")\n",
        "plt.ylabel(\"R² Score\")\n",
        "plt.title(\"Effect of Alpha on Ridge Regression Performance\")\n",
        "plt.show()"
      ],
      "metadata": {
        "_uuid": "2966509e-e344-4c64-a912-40abd9771bad",
        "_cell_guid": "94022fe3-24d6-4508-98ca-766dd9bef3d1",
        "trusted": true,
        "execution": {
          "iopub.status.busy": "2025-08-25T06:45:38.368281Z",
          "iopub.execute_input": "2025-08-25T06:45:38.368513Z",
          "iopub.status.idle": "2025-08-25T06:45:38.961042Z",
          "shell.execute_reply.started": "2025-08-25T06:45:38.368496Z",
          "shell.execute_reply": "2025-08-25T06:45:38.959727Z"
        },
        "jupyter": {
          "outputs_hidden": false
        },
        "id": "EcF773ooHcX7"
      },
      "outputs": [],
      "execution_count": null
    },
    {
      "cell_type": "code",
      "source": [
        "# 13. Coefficients\n",
        "coef_df = pd.DataFrame({\n",
        "    \"Feature\": X.columns,\n",
        "    \"Ridge_Coefficient\": ridge.coef_\n",
        "})\n",
        "print(\"\\nTop 10 Features by Absolute Coefficient:\")\n",
        "print(coef_df.reindex(coef_df[\"Ridge_Coefficient\"].abs().sort_values(ascending=False).index).head(10))"
      ],
      "metadata": {
        "_uuid": "2687e1fb-3157-4c97-9204-a7ce89d279a6",
        "_cell_guid": "05c5cb59-82ae-49fb-8c8d-0b6ec911fd29",
        "trusted": true,
        "execution": {
          "iopub.status.busy": "2025-08-25T06:45:38.962634Z",
          "iopub.execute_input": "2025-08-25T06:45:38.962972Z",
          "iopub.status.idle": "2025-08-25T06:45:38.9753Z",
          "shell.execute_reply.started": "2025-08-25T06:45:38.962947Z",
          "shell.execute_reply": "2025-08-25T06:45:38.973593Z"
        },
        "jupyter": {
          "outputs_hidden": false
        },
        "id": "vpvZOVEDHcX9"
      },
      "outputs": [],
      "execution_count": null
    }
  ]
}